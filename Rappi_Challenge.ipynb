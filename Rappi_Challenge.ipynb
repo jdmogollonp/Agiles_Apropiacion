{
  "nbformat": 4,
  "nbformat_minor": 0,
  "metadata": {
    "accelerator": "GPU",
    "colab": {
      "name": "Rappi_Challenge.ipynb",
      "provenance": [],
      "collapsed_sections": [],
      "toc_visible": true,
      "include_colab_link": true
    },
    "kernelspec": {
      "display_name": "Python 3",
      "name": "python3"
    },
    "widgets": {
      "application/vnd.jupyter.widget-state+json": {
        "76834895ebfd435583376dfe6316b4db": {
          "model_module": "@jupyter-widgets/controls",
          "model_name": "HBoxModel",
          "state": {
            "_view_name": "HBoxView",
            "_dom_classes": [],
            "_model_name": "HBoxModel",
            "_view_module": "@jupyter-widgets/controls",
            "_model_module_version": "1.5.0",
            "_view_count": null,
            "_view_module_version": "1.5.0",
            "box_style": "",
            "layout": "IPY_MODEL_276880a3a7dd412ab43bee1c6fe654de",
            "_model_module": "@jupyter-widgets/controls",
            "children": [
              "IPY_MODEL_0e45ad45d548401d8990f6ea61b5796d",
              "IPY_MODEL_b6cbc1377da04fa5a3418cd9fb3b00c9"
            ]
          }
        },
        "276880a3a7dd412ab43bee1c6fe654de": {
          "model_module": "@jupyter-widgets/base",
          "model_name": "LayoutModel",
          "state": {
            "_view_name": "LayoutView",
            "grid_template_rows": null,
            "right": null,
            "justify_content": null,
            "_view_module": "@jupyter-widgets/base",
            "overflow": null,
            "_model_module_version": "1.2.0",
            "_view_count": null,
            "flex_flow": null,
            "width": null,
            "min_width": null,
            "border": null,
            "align_items": null,
            "bottom": null,
            "_model_module": "@jupyter-widgets/base",
            "top": null,
            "grid_column": null,
            "overflow_y": null,
            "overflow_x": null,
            "grid_auto_flow": null,
            "grid_area": null,
            "grid_template_columns": null,
            "flex": null,
            "_model_name": "LayoutModel",
            "justify_items": null,
            "grid_row": null,
            "max_height": null,
            "align_content": null,
            "visibility": null,
            "align_self": null,
            "height": null,
            "min_height": null,
            "padding": null,
            "grid_auto_rows": null,
            "grid_gap": null,
            "max_width": null,
            "order": null,
            "_view_module_version": "1.2.0",
            "grid_template_areas": null,
            "object_position": null,
            "object_fit": null,
            "grid_auto_columns": null,
            "margin": null,
            "display": null,
            "left": null
          }
        },
        "0e45ad45d548401d8990f6ea61b5796d": {
          "model_module": "@jupyter-widgets/controls",
          "model_name": "FloatProgressModel",
          "state": {
            "_view_name": "ProgressView",
            "style": "IPY_MODEL_d0c24976b3d64e32b2c73a26b3a24d30",
            "_dom_classes": [],
            "description": "Downloading: 100%",
            "_model_name": "FloatProgressModel",
            "bar_style": "success",
            "max": 734,
            "_view_module": "@jupyter-widgets/controls",
            "_model_module_version": "1.5.0",
            "value": 734,
            "_view_count": null,
            "_view_module_version": "1.5.0",
            "orientation": "horizontal",
            "min": 0,
            "description_tooltip": null,
            "_model_module": "@jupyter-widgets/controls",
            "layout": "IPY_MODEL_44a16411b47947d1b6e1af7579bff8a1"
          }
        },
        "b6cbc1377da04fa5a3418cd9fb3b00c9": {
          "model_module": "@jupyter-widgets/controls",
          "model_name": "HTMLModel",
          "state": {
            "_view_name": "HTMLView",
            "style": "IPY_MODEL_a23c7a81f626484492f7b13771ac7f35",
            "_dom_classes": [],
            "description": "",
            "_model_name": "HTMLModel",
            "placeholder": "​",
            "_view_module": "@jupyter-widgets/controls",
            "_model_module_version": "1.5.0",
            "value": " 734/734 [01:04&lt;00:00, 11.4B/s]",
            "_view_count": null,
            "_view_module_version": "1.5.0",
            "description_tooltip": null,
            "_model_module": "@jupyter-widgets/controls",
            "layout": "IPY_MODEL_1f533b127b2143acaeb847cf13692419"
          }
        },
        "d0c24976b3d64e32b2c73a26b3a24d30": {
          "model_module": "@jupyter-widgets/controls",
          "model_name": "ProgressStyleModel",
          "state": {
            "_view_name": "StyleView",
            "_model_name": "ProgressStyleModel",
            "description_width": "initial",
            "_view_module": "@jupyter-widgets/base",
            "_model_module_version": "1.5.0",
            "_view_count": null,
            "_view_module_version": "1.2.0",
            "bar_color": null,
            "_model_module": "@jupyter-widgets/controls"
          }
        },
        "44a16411b47947d1b6e1af7579bff8a1": {
          "model_module": "@jupyter-widgets/base",
          "model_name": "LayoutModel",
          "state": {
            "_view_name": "LayoutView",
            "grid_template_rows": null,
            "right": null,
            "justify_content": null,
            "_view_module": "@jupyter-widgets/base",
            "overflow": null,
            "_model_module_version": "1.2.0",
            "_view_count": null,
            "flex_flow": null,
            "width": null,
            "min_width": null,
            "border": null,
            "align_items": null,
            "bottom": null,
            "_model_module": "@jupyter-widgets/base",
            "top": null,
            "grid_column": null,
            "overflow_y": null,
            "overflow_x": null,
            "grid_auto_flow": null,
            "grid_area": null,
            "grid_template_columns": null,
            "flex": null,
            "_model_name": "LayoutModel",
            "justify_items": null,
            "grid_row": null,
            "max_height": null,
            "align_content": null,
            "visibility": null,
            "align_self": null,
            "height": null,
            "min_height": null,
            "padding": null,
            "grid_auto_rows": null,
            "grid_gap": null,
            "max_width": null,
            "order": null,
            "_view_module_version": "1.2.0",
            "grid_template_areas": null,
            "object_position": null,
            "object_fit": null,
            "grid_auto_columns": null,
            "margin": null,
            "display": null,
            "left": null
          }
        },
        "a23c7a81f626484492f7b13771ac7f35": {
          "model_module": "@jupyter-widgets/controls",
          "model_name": "DescriptionStyleModel",
          "state": {
            "_view_name": "StyleView",
            "_model_name": "DescriptionStyleModel",
            "description_width": "",
            "_view_module": "@jupyter-widgets/base",
            "_model_module_version": "1.5.0",
            "_view_count": null,
            "_view_module_version": "1.2.0",
            "_model_module": "@jupyter-widgets/controls"
          }
        },
        "1f533b127b2143acaeb847cf13692419": {
          "model_module": "@jupyter-widgets/base",
          "model_name": "LayoutModel",
          "state": {
            "_view_name": "LayoutView",
            "grid_template_rows": null,
            "right": null,
            "justify_content": null,
            "_view_module": "@jupyter-widgets/base",
            "overflow": null,
            "_model_module_version": "1.2.0",
            "_view_count": null,
            "flex_flow": null,
            "width": null,
            "min_width": null,
            "border": null,
            "align_items": null,
            "bottom": null,
            "_model_module": "@jupyter-widgets/base",
            "top": null,
            "grid_column": null,
            "overflow_y": null,
            "overflow_x": null,
            "grid_auto_flow": null,
            "grid_area": null,
            "grid_template_columns": null,
            "flex": null,
            "_model_name": "LayoutModel",
            "justify_items": null,
            "grid_row": null,
            "max_height": null,
            "align_content": null,
            "visibility": null,
            "align_self": null,
            "height": null,
            "min_height": null,
            "padding": null,
            "grid_auto_rows": null,
            "grid_gap": null,
            "max_width": null,
            "order": null,
            "_view_module_version": "1.2.0",
            "grid_template_areas": null,
            "object_position": null,
            "object_fit": null,
            "grid_auto_columns": null,
            "margin": null,
            "display": null,
            "left": null
          }
        },
        "5d602b9ad93d4683b39a5b0049f23d08": {
          "model_module": "@jupyter-widgets/controls",
          "model_name": "HBoxModel",
          "state": {
            "_view_name": "HBoxView",
            "_dom_classes": [],
            "_model_name": "HBoxModel",
            "_view_module": "@jupyter-widgets/controls",
            "_model_module_version": "1.5.0",
            "_view_count": null,
            "_view_module_version": "1.5.0",
            "box_style": "",
            "layout": "IPY_MODEL_c4572d0425794523b7164e90f08a5a2a",
            "_model_module": "@jupyter-widgets/controls",
            "children": [
              "IPY_MODEL_905e02ca90c847e7a9a666a50f747477",
              "IPY_MODEL_f882992c2f194d12abbd1ce00b511b08"
            ]
          }
        },
        "c4572d0425794523b7164e90f08a5a2a": {
          "model_module": "@jupyter-widgets/base",
          "model_name": "LayoutModel",
          "state": {
            "_view_name": "LayoutView",
            "grid_template_rows": null,
            "right": null,
            "justify_content": null,
            "_view_module": "@jupyter-widgets/base",
            "overflow": null,
            "_model_module_version": "1.2.0",
            "_view_count": null,
            "flex_flow": null,
            "width": null,
            "min_width": null,
            "border": null,
            "align_items": null,
            "bottom": null,
            "_model_module": "@jupyter-widgets/base",
            "top": null,
            "grid_column": null,
            "overflow_y": null,
            "overflow_x": null,
            "grid_auto_flow": null,
            "grid_area": null,
            "grid_template_columns": null,
            "flex": null,
            "_model_name": "LayoutModel",
            "justify_items": null,
            "grid_row": null,
            "max_height": null,
            "align_content": null,
            "visibility": null,
            "align_self": null,
            "height": null,
            "min_height": null,
            "padding": null,
            "grid_auto_rows": null,
            "grid_gap": null,
            "max_width": null,
            "order": null,
            "_view_module_version": "1.2.0",
            "grid_template_areas": null,
            "object_position": null,
            "object_fit": null,
            "grid_auto_columns": null,
            "margin": null,
            "display": null,
            "left": null
          }
        },
        "905e02ca90c847e7a9a666a50f747477": {
          "model_module": "@jupyter-widgets/controls",
          "model_name": "FloatProgressModel",
          "state": {
            "_view_name": "ProgressView",
            "style": "IPY_MODEL_ed8b9262a6db41e19df6189e301a8fbb",
            "_dom_classes": [],
            "description": "Downloading: 100%",
            "_model_name": "FloatProgressModel",
            "bar_style": "success",
            "max": 5069051,
            "_view_module": "@jupyter-widgets/controls",
            "_model_module_version": "1.5.0",
            "value": 5069051,
            "_view_count": null,
            "_view_module_version": "1.5.0",
            "orientation": "horizontal",
            "min": 0,
            "description_tooltip": null,
            "_model_module": "@jupyter-widgets/controls",
            "layout": "IPY_MODEL_1e9b26caa60441d195edd306384a84a3"
          }
        },
        "f882992c2f194d12abbd1ce00b511b08": {
          "model_module": "@jupyter-widgets/controls",
          "model_name": "HTMLModel",
          "state": {
            "_view_name": "HTMLView",
            "style": "IPY_MODEL_598087ae398f4c07bcd7de64a1d04d7b",
            "_dom_classes": [],
            "description": "",
            "_model_name": "HTMLModel",
            "placeholder": "​",
            "_view_module": "@jupyter-widgets/controls",
            "_model_module_version": "1.5.0",
            "value": " 5.07M/5.07M [00:00&lt;00:00, 11.2MB/s]",
            "_view_count": null,
            "_view_module_version": "1.5.0",
            "description_tooltip": null,
            "_model_module": "@jupyter-widgets/controls",
            "layout": "IPY_MODEL_1b107e330649481e8062642fe3ec6769"
          }
        },
        "ed8b9262a6db41e19df6189e301a8fbb": {
          "model_module": "@jupyter-widgets/controls",
          "model_name": "ProgressStyleModel",
          "state": {
            "_view_name": "StyleView",
            "_model_name": "ProgressStyleModel",
            "description_width": "initial",
            "_view_module": "@jupyter-widgets/base",
            "_model_module_version": "1.5.0",
            "_view_count": null,
            "_view_module_version": "1.2.0",
            "bar_color": null,
            "_model_module": "@jupyter-widgets/controls"
          }
        },
        "1e9b26caa60441d195edd306384a84a3": {
          "model_module": "@jupyter-widgets/base",
          "model_name": "LayoutModel",
          "state": {
            "_view_name": "LayoutView",
            "grid_template_rows": null,
            "right": null,
            "justify_content": null,
            "_view_module": "@jupyter-widgets/base",
            "overflow": null,
            "_model_module_version": "1.2.0",
            "_view_count": null,
            "flex_flow": null,
            "width": null,
            "min_width": null,
            "border": null,
            "align_items": null,
            "bottom": null,
            "_model_module": "@jupyter-widgets/base",
            "top": null,
            "grid_column": null,
            "overflow_y": null,
            "overflow_x": null,
            "grid_auto_flow": null,
            "grid_area": null,
            "grid_template_columns": null,
            "flex": null,
            "_model_name": "LayoutModel",
            "justify_items": null,
            "grid_row": null,
            "max_height": null,
            "align_content": null,
            "visibility": null,
            "align_self": null,
            "height": null,
            "min_height": null,
            "padding": null,
            "grid_auto_rows": null,
            "grid_gap": null,
            "max_width": null,
            "order": null,
            "_view_module_version": "1.2.0",
            "grid_template_areas": null,
            "object_position": null,
            "object_fit": null,
            "grid_auto_columns": null,
            "margin": null,
            "display": null,
            "left": null
          }
        },
        "598087ae398f4c07bcd7de64a1d04d7b": {
          "model_module": "@jupyter-widgets/controls",
          "model_name": "DescriptionStyleModel",
          "state": {
            "_view_name": "StyleView",
            "_model_name": "DescriptionStyleModel",
            "description_width": "",
            "_view_module": "@jupyter-widgets/base",
            "_model_module_version": "1.5.0",
            "_view_count": null,
            "_view_module_version": "1.2.0",
            "_model_module": "@jupyter-widgets/controls"
          }
        },
        "1b107e330649481e8062642fe3ec6769": {
          "model_module": "@jupyter-widgets/base",
          "model_name": "LayoutModel",
          "state": {
            "_view_name": "LayoutView",
            "grid_template_rows": null,
            "right": null,
            "justify_content": null,
            "_view_module": "@jupyter-widgets/base",
            "overflow": null,
            "_model_module_version": "1.2.0",
            "_view_count": null,
            "flex_flow": null,
            "width": null,
            "min_width": null,
            "border": null,
            "align_items": null,
            "bottom": null,
            "_model_module": "@jupyter-widgets/base",
            "top": null,
            "grid_column": null,
            "overflow_y": null,
            "overflow_x": null,
            "grid_auto_flow": null,
            "grid_area": null,
            "grid_template_columns": null,
            "flex": null,
            "_model_name": "LayoutModel",
            "justify_items": null,
            "grid_row": null,
            "max_height": null,
            "align_content": null,
            "visibility": null,
            "align_self": null,
            "height": null,
            "min_height": null,
            "padding": null,
            "grid_auto_rows": null,
            "grid_gap": null,
            "max_width": null,
            "order": null,
            "_view_module_version": "1.2.0",
            "grid_template_areas": null,
            "object_position": null,
            "object_fit": null,
            "grid_auto_columns": null,
            "margin": null,
            "display": null,
            "left": null
          }
        },
        "e94191a45f374719a6b9d80949087724": {
          "model_module": "@jupyter-widgets/controls",
          "model_name": "HBoxModel",
          "state": {
            "_view_name": "HBoxView",
            "_dom_classes": [],
            "_model_name": "HBoxModel",
            "_view_module": "@jupyter-widgets/controls",
            "_model_module_version": "1.5.0",
            "_view_count": null,
            "_view_module_version": "1.5.0",
            "box_style": "",
            "layout": "IPY_MODEL_19629e9301cf4361b8f2b92ffb3e3d52",
            "_model_module": "@jupyter-widgets/controls",
            "children": [
              "IPY_MODEL_8751e47b77b94a23b9020b8731586ecf",
              "IPY_MODEL_1db3ac960ef84611b47188842cae13ce"
            ]
          }
        },
        "19629e9301cf4361b8f2b92ffb3e3d52": {
          "model_module": "@jupyter-widgets/base",
          "model_name": "LayoutModel",
          "state": {
            "_view_name": "LayoutView",
            "grid_template_rows": null,
            "right": null,
            "justify_content": null,
            "_view_module": "@jupyter-widgets/base",
            "overflow": null,
            "_model_module_version": "1.2.0",
            "_view_count": null,
            "flex_flow": null,
            "width": null,
            "min_width": null,
            "border": null,
            "align_items": null,
            "bottom": null,
            "_model_module": "@jupyter-widgets/base",
            "top": null,
            "grid_column": null,
            "overflow_y": null,
            "overflow_x": null,
            "grid_auto_flow": null,
            "grid_area": null,
            "grid_template_columns": null,
            "flex": null,
            "_model_name": "LayoutModel",
            "justify_items": null,
            "grid_row": null,
            "max_height": null,
            "align_content": null,
            "visibility": null,
            "align_self": null,
            "height": null,
            "min_height": null,
            "padding": null,
            "grid_auto_rows": null,
            "grid_gap": null,
            "max_width": null,
            "order": null,
            "_view_module_version": "1.2.0",
            "grid_template_areas": null,
            "object_position": null,
            "object_fit": null,
            "grid_auto_columns": null,
            "margin": null,
            "display": null,
            "left": null
          }
        },
        "8751e47b77b94a23b9020b8731586ecf": {
          "model_module": "@jupyter-widgets/controls",
          "model_name": "FloatProgressModel",
          "state": {
            "_view_name": "ProgressView",
            "style": "IPY_MODEL_bc9628c6dcf4428a95cf5137c954a6f2",
            "_dom_classes": [],
            "description": "Downloading: 100%",
            "_model_name": "FloatProgressModel",
            "bar_style": "success",
            "max": 150,
            "_view_module": "@jupyter-widgets/controls",
            "_model_module_version": "1.5.0",
            "value": 150,
            "_view_count": null,
            "_view_module_version": "1.5.0",
            "orientation": "horizontal",
            "min": 0,
            "description_tooltip": null,
            "_model_module": "@jupyter-widgets/controls",
            "layout": "IPY_MODEL_1c55c0a4724c4dd1bdb183551664b2ba"
          }
        },
        "1db3ac960ef84611b47188842cae13ce": {
          "model_module": "@jupyter-widgets/controls",
          "model_name": "HTMLModel",
          "state": {
            "_view_name": "HTMLView",
            "style": "IPY_MODEL_e0e864505ab34d8b8408981ee240f7ed",
            "_dom_classes": [],
            "description": "",
            "_model_name": "HTMLModel",
            "placeholder": "​",
            "_view_module": "@jupyter-widgets/controls",
            "_model_module_version": "1.5.0",
            "value": " 150/150 [00:00&lt;00:00, 1.13kB/s]",
            "_view_count": null,
            "_view_module_version": "1.5.0",
            "description_tooltip": null,
            "_model_module": "@jupyter-widgets/controls",
            "layout": "IPY_MODEL_908699215d5c4e72a910f208498f56a7"
          }
        },
        "bc9628c6dcf4428a95cf5137c954a6f2": {
          "model_module": "@jupyter-widgets/controls",
          "model_name": "ProgressStyleModel",
          "state": {
            "_view_name": "StyleView",
            "_model_name": "ProgressStyleModel",
            "description_width": "initial",
            "_view_module": "@jupyter-widgets/base",
            "_model_module_version": "1.5.0",
            "_view_count": null,
            "_view_module_version": "1.2.0",
            "bar_color": null,
            "_model_module": "@jupyter-widgets/controls"
          }
        },
        "1c55c0a4724c4dd1bdb183551664b2ba": {
          "model_module": "@jupyter-widgets/base",
          "model_name": "LayoutModel",
          "state": {
            "_view_name": "LayoutView",
            "grid_template_rows": null,
            "right": null,
            "justify_content": null,
            "_view_module": "@jupyter-widgets/base",
            "overflow": null,
            "_model_module_version": "1.2.0",
            "_view_count": null,
            "flex_flow": null,
            "width": null,
            "min_width": null,
            "border": null,
            "align_items": null,
            "bottom": null,
            "_model_module": "@jupyter-widgets/base",
            "top": null,
            "grid_column": null,
            "overflow_y": null,
            "overflow_x": null,
            "grid_auto_flow": null,
            "grid_area": null,
            "grid_template_columns": null,
            "flex": null,
            "_model_name": "LayoutModel",
            "justify_items": null,
            "grid_row": null,
            "max_height": null,
            "align_content": null,
            "visibility": null,
            "align_self": null,
            "height": null,
            "min_height": null,
            "padding": null,
            "grid_auto_rows": null,
            "grid_gap": null,
            "max_width": null,
            "order": null,
            "_view_module_version": "1.2.0",
            "grid_template_areas": null,
            "object_position": null,
            "object_fit": null,
            "grid_auto_columns": null,
            "margin": null,
            "display": null,
            "left": null
          }
        },
        "e0e864505ab34d8b8408981ee240f7ed": {
          "model_module": "@jupyter-widgets/controls",
          "model_name": "DescriptionStyleModel",
          "state": {
            "_view_name": "StyleView",
            "_model_name": "DescriptionStyleModel",
            "description_width": "",
            "_view_module": "@jupyter-widgets/base",
            "_model_module_version": "1.5.0",
            "_view_count": null,
            "_view_module_version": "1.2.0",
            "_model_module": "@jupyter-widgets/controls"
          }
        },
        "908699215d5c4e72a910f208498f56a7": {
          "model_module": "@jupyter-widgets/base",
          "model_name": "LayoutModel",
          "state": {
            "_view_name": "LayoutView",
            "grid_template_rows": null,
            "right": null,
            "justify_content": null,
            "_view_module": "@jupyter-widgets/base",
            "overflow": null,
            "_model_module_version": "1.2.0",
            "_view_count": null,
            "flex_flow": null,
            "width": null,
            "min_width": null,
            "border": null,
            "align_items": null,
            "bottom": null,
            "_model_module": "@jupyter-widgets/base",
            "top": null,
            "grid_column": null,
            "overflow_y": null,
            "overflow_x": null,
            "grid_auto_flow": null,
            "grid_area": null,
            "grid_template_columns": null,
            "flex": null,
            "_model_name": "LayoutModel",
            "justify_items": null,
            "grid_row": null,
            "max_height": null,
            "align_content": null,
            "visibility": null,
            "align_self": null,
            "height": null,
            "min_height": null,
            "padding": null,
            "grid_auto_rows": null,
            "grid_gap": null,
            "max_width": null,
            "order": null,
            "_view_module_version": "1.2.0",
            "grid_template_areas": null,
            "object_position": null,
            "object_fit": null,
            "grid_auto_columns": null,
            "margin": null,
            "display": null,
            "left": null
          }
        },
        "b91f53d709dd4e7ea7f9e81b93e346d1": {
          "model_module": "@jupyter-widgets/controls",
          "model_name": "HBoxModel",
          "state": {
            "_view_name": "HBoxView",
            "_dom_classes": [],
            "_model_name": "HBoxModel",
            "_view_module": "@jupyter-widgets/controls",
            "_model_module_version": "1.5.0",
            "_view_count": null,
            "_view_module_version": "1.5.0",
            "box_style": "",
            "layout": "IPY_MODEL_d1ffcd0a12964e33825f3f304f751284",
            "_model_module": "@jupyter-widgets/controls",
            "children": [
              "IPY_MODEL_4799dafc201e45098d48afa8a47029c2",
              "IPY_MODEL_1ef20a4ba0144180938c13acf20c805a"
            ]
          }
        },
        "d1ffcd0a12964e33825f3f304f751284": {
          "model_module": "@jupyter-widgets/base",
          "model_name": "LayoutModel",
          "state": {
            "_view_name": "LayoutView",
            "grid_template_rows": null,
            "right": null,
            "justify_content": null,
            "_view_module": "@jupyter-widgets/base",
            "overflow": null,
            "_model_module_version": "1.2.0",
            "_view_count": null,
            "flex_flow": null,
            "width": null,
            "min_width": null,
            "border": null,
            "align_items": null,
            "bottom": null,
            "_model_module": "@jupyter-widgets/base",
            "top": null,
            "grid_column": null,
            "overflow_y": null,
            "overflow_x": null,
            "grid_auto_flow": null,
            "grid_area": null,
            "grid_template_columns": null,
            "flex": null,
            "_model_name": "LayoutModel",
            "justify_items": null,
            "grid_row": null,
            "max_height": null,
            "align_content": null,
            "visibility": null,
            "align_self": null,
            "height": null,
            "min_height": null,
            "padding": null,
            "grid_auto_rows": null,
            "grid_gap": null,
            "max_width": null,
            "order": null,
            "_view_module_version": "1.2.0",
            "grid_template_areas": null,
            "object_position": null,
            "object_fit": null,
            "grid_auto_columns": null,
            "margin": null,
            "display": null,
            "left": null
          }
        },
        "4799dafc201e45098d48afa8a47029c2": {
          "model_module": "@jupyter-widgets/controls",
          "model_name": "FloatProgressModel",
          "state": {
            "_view_name": "ProgressView",
            "style": "IPY_MODEL_c7e4c03515fb483f8fdc9bcba1aaeb97",
            "_dom_classes": [],
            "description": "Downloading: 100%",
            "_model_name": "FloatProgressModel",
            "bar_style": "success",
            "max": 25,
            "_view_module": "@jupyter-widgets/controls",
            "_model_module_version": "1.5.0",
            "value": 25,
            "_view_count": null,
            "_view_module_version": "1.5.0",
            "orientation": "horizontal",
            "min": 0,
            "description_tooltip": null,
            "_model_module": "@jupyter-widgets/controls",
            "layout": "IPY_MODEL_465ff98aabdc4e9e87cd1daa71c26ab3"
          }
        },
        "1ef20a4ba0144180938c13acf20c805a": {
          "model_module": "@jupyter-widgets/controls",
          "model_name": "HTMLModel",
          "state": {
            "_view_name": "HTMLView",
            "style": "IPY_MODEL_dee9c256fc87468380d375d47ae668ad",
            "_dom_classes": [],
            "description": "",
            "_model_name": "HTMLModel",
            "placeholder": "​",
            "_view_module": "@jupyter-widgets/controls",
            "_model_module_version": "1.5.0",
            "value": " 25.0/25.0 [01:03&lt;00:00, 2.55s/B]",
            "_view_count": null,
            "_view_module_version": "1.5.0",
            "description_tooltip": null,
            "_model_module": "@jupyter-widgets/controls",
            "layout": "IPY_MODEL_4cb72341efd54ee38be38a72c83d1166"
          }
        },
        "c7e4c03515fb483f8fdc9bcba1aaeb97": {
          "model_module": "@jupyter-widgets/controls",
          "model_name": "ProgressStyleModel",
          "state": {
            "_view_name": "StyleView",
            "_model_name": "ProgressStyleModel",
            "description_width": "initial",
            "_view_module": "@jupyter-widgets/base",
            "_model_module_version": "1.5.0",
            "_view_count": null,
            "_view_module_version": "1.2.0",
            "bar_color": null,
            "_model_module": "@jupyter-widgets/controls"
          }
        },
        "465ff98aabdc4e9e87cd1daa71c26ab3": {
          "model_module": "@jupyter-widgets/base",
          "model_name": "LayoutModel",
          "state": {
            "_view_name": "LayoutView",
            "grid_template_rows": null,
            "right": null,
            "justify_content": null,
            "_view_module": "@jupyter-widgets/base",
            "overflow": null,
            "_model_module_version": "1.2.0",
            "_view_count": null,
            "flex_flow": null,
            "width": null,
            "min_width": null,
            "border": null,
            "align_items": null,
            "bottom": null,
            "_model_module": "@jupyter-widgets/base",
            "top": null,
            "grid_column": null,
            "overflow_y": null,
            "overflow_x": null,
            "grid_auto_flow": null,
            "grid_area": null,
            "grid_template_columns": null,
            "flex": null,
            "_model_name": "LayoutModel",
            "justify_items": null,
            "grid_row": null,
            "max_height": null,
            "align_content": null,
            "visibility": null,
            "align_self": null,
            "height": null,
            "min_height": null,
            "padding": null,
            "grid_auto_rows": null,
            "grid_gap": null,
            "max_width": null,
            "order": null,
            "_view_module_version": "1.2.0",
            "grid_template_areas": null,
            "object_position": null,
            "object_fit": null,
            "grid_auto_columns": null,
            "margin": null,
            "display": null,
            "left": null
          }
        },
        "dee9c256fc87468380d375d47ae668ad": {
          "model_module": "@jupyter-widgets/controls",
          "model_name": "DescriptionStyleModel",
          "state": {
            "_view_name": "StyleView",
            "_model_name": "DescriptionStyleModel",
            "description_width": "",
            "_view_module": "@jupyter-widgets/base",
            "_model_module_version": "1.5.0",
            "_view_count": null,
            "_view_module_version": "1.2.0",
            "_model_module": "@jupyter-widgets/controls"
          }
        },
        "4cb72341efd54ee38be38a72c83d1166": {
          "model_module": "@jupyter-widgets/base",
          "model_name": "LayoutModel",
          "state": {
            "_view_name": "LayoutView",
            "grid_template_rows": null,
            "right": null,
            "justify_content": null,
            "_view_module": "@jupyter-widgets/base",
            "overflow": null,
            "_model_module_version": "1.2.0",
            "_view_count": null,
            "flex_flow": null,
            "width": null,
            "min_width": null,
            "border": null,
            "align_items": null,
            "bottom": null,
            "_model_module": "@jupyter-widgets/base",
            "top": null,
            "grid_column": null,
            "overflow_y": null,
            "overflow_x": null,
            "grid_auto_flow": null,
            "grid_area": null,
            "grid_template_columns": null,
            "flex": null,
            "_model_name": "LayoutModel",
            "justify_items": null,
            "grid_row": null,
            "max_height": null,
            "align_content": null,
            "visibility": null,
            "align_self": null,
            "height": null,
            "min_height": null,
            "padding": null,
            "grid_auto_rows": null,
            "grid_gap": null,
            "max_width": null,
            "order": null,
            "_view_module_version": "1.2.0",
            "grid_template_areas": null,
            "object_position": null,
            "object_fit": null,
            "grid_auto_columns": null,
            "margin": null,
            "display": null,
            "left": null
          }
        },
        "72d0fc693a254355a0e7b4e4ac9e5219": {
          "model_module": "@jupyter-widgets/controls",
          "model_name": "HBoxModel",
          "state": {
            "_view_name": "HBoxView",
            "_dom_classes": [],
            "_model_name": "HBoxModel",
            "_view_module": "@jupyter-widgets/controls",
            "_model_module_version": "1.5.0",
            "_view_count": null,
            "_view_module_version": "1.5.0",
            "box_style": "",
            "layout": "IPY_MODEL_d1c3e7cb352741cea05e24b7b820ba76",
            "_model_module": "@jupyter-widgets/controls",
            "children": [
              "IPY_MODEL_50a6c80f58144c7280b3cf83b28a3111",
              "IPY_MODEL_9f9173ad1b524886b1ad772ab85b5501"
            ]
          }
        },
        "d1c3e7cb352741cea05e24b7b820ba76": {
          "model_module": "@jupyter-widgets/base",
          "model_name": "LayoutModel",
          "state": {
            "_view_name": "LayoutView",
            "grid_template_rows": null,
            "right": null,
            "justify_content": null,
            "_view_module": "@jupyter-widgets/base",
            "overflow": null,
            "_model_module_version": "1.2.0",
            "_view_count": null,
            "flex_flow": null,
            "width": null,
            "min_width": null,
            "border": null,
            "align_items": null,
            "bottom": null,
            "_model_module": "@jupyter-widgets/base",
            "top": null,
            "grid_column": null,
            "overflow_y": null,
            "overflow_x": null,
            "grid_auto_flow": null,
            "grid_area": null,
            "grid_template_columns": null,
            "flex": null,
            "_model_name": "LayoutModel",
            "justify_items": null,
            "grid_row": null,
            "max_height": null,
            "align_content": null,
            "visibility": null,
            "align_self": null,
            "height": null,
            "min_height": null,
            "padding": null,
            "grid_auto_rows": null,
            "grid_gap": null,
            "max_width": null,
            "order": null,
            "_view_module_version": "1.2.0",
            "grid_template_areas": null,
            "object_position": null,
            "object_fit": null,
            "grid_auto_columns": null,
            "margin": null,
            "display": null,
            "left": null
          }
        },
        "50a6c80f58144c7280b3cf83b28a3111": {
          "model_module": "@jupyter-widgets/controls",
          "model_name": "FloatProgressModel",
          "state": {
            "_view_name": "ProgressView",
            "style": "IPY_MODEL_7fc8463daacf47858e8c5fda63c4a042",
            "_dom_classes": [],
            "description": "Downloading: 100%",
            "_model_name": "FloatProgressModel",
            "bar_style": "success",
            "max": 2243942751,
            "_view_module": "@jupyter-widgets/controls",
            "_model_module_version": "1.5.0",
            "value": 2243942751,
            "_view_count": null,
            "_view_module_version": "1.5.0",
            "orientation": "horizontal",
            "min": 0,
            "description_tooltip": null,
            "_model_module": "@jupyter-widgets/controls",
            "layout": "IPY_MODEL_f5c778b717db4e73b580e07386f9dcf6"
          }
        },
        "9f9173ad1b524886b1ad772ab85b5501": {
          "model_module": "@jupyter-widgets/controls",
          "model_name": "HTMLModel",
          "state": {
            "_view_name": "HTMLView",
            "style": "IPY_MODEL_5f41c449fc6247208618647a69e835b9",
            "_dom_classes": [],
            "description": "",
            "_model_name": "HTMLModel",
            "placeholder": "​",
            "_view_module": "@jupyter-widgets/controls",
            "_model_module_version": "1.5.0",
            "value": " 2.24G/2.24G [00:38&lt;00:00, 59.0MB/s]",
            "_view_count": null,
            "_view_module_version": "1.5.0",
            "description_tooltip": null,
            "_model_module": "@jupyter-widgets/controls",
            "layout": "IPY_MODEL_72f2985436fc42d7bb6f28631c84e37c"
          }
        },
        "7fc8463daacf47858e8c5fda63c4a042": {
          "model_module": "@jupyter-widgets/controls",
          "model_name": "ProgressStyleModel",
          "state": {
            "_view_name": "StyleView",
            "_model_name": "ProgressStyleModel",
            "description_width": "initial",
            "_view_module": "@jupyter-widgets/base",
            "_model_module_version": "1.5.0",
            "_view_count": null,
            "_view_module_version": "1.2.0",
            "bar_color": null,
            "_model_module": "@jupyter-widgets/controls"
          }
        },
        "f5c778b717db4e73b580e07386f9dcf6": {
          "model_module": "@jupyter-widgets/base",
          "model_name": "LayoutModel",
          "state": {
            "_view_name": "LayoutView",
            "grid_template_rows": null,
            "right": null,
            "justify_content": null,
            "_view_module": "@jupyter-widgets/base",
            "overflow": null,
            "_model_module_version": "1.2.0",
            "_view_count": null,
            "flex_flow": null,
            "width": null,
            "min_width": null,
            "border": null,
            "align_items": null,
            "bottom": null,
            "_model_module": "@jupyter-widgets/base",
            "top": null,
            "grid_column": null,
            "overflow_y": null,
            "overflow_x": null,
            "grid_auto_flow": null,
            "grid_area": null,
            "grid_template_columns": null,
            "flex": null,
            "_model_name": "LayoutModel",
            "justify_items": null,
            "grid_row": null,
            "max_height": null,
            "align_content": null,
            "visibility": null,
            "align_self": null,
            "height": null,
            "min_height": null,
            "padding": null,
            "grid_auto_rows": null,
            "grid_gap": null,
            "max_width": null,
            "order": null,
            "_view_module_version": "1.2.0",
            "grid_template_areas": null,
            "object_position": null,
            "object_fit": null,
            "grid_auto_columns": null,
            "margin": null,
            "display": null,
            "left": null
          }
        },
        "5f41c449fc6247208618647a69e835b9": {
          "model_module": "@jupyter-widgets/controls",
          "model_name": "DescriptionStyleModel",
          "state": {
            "_view_name": "StyleView",
            "_model_name": "DescriptionStyleModel",
            "description_width": "",
            "_view_module": "@jupyter-widgets/base",
            "_model_module_version": "1.5.0",
            "_view_count": null,
            "_view_module_version": "1.2.0",
            "_model_module": "@jupyter-widgets/controls"
          }
        },
        "72f2985436fc42d7bb6f28631c84e37c": {
          "model_module": "@jupyter-widgets/base",
          "model_name": "LayoutModel",
          "state": {
            "_view_name": "LayoutView",
            "grid_template_rows": null,
            "right": null,
            "justify_content": null,
            "_view_module": "@jupyter-widgets/base",
            "overflow": null,
            "_model_module_version": "1.2.0",
            "_view_count": null,
            "flex_flow": null,
            "width": null,
            "min_width": null,
            "border": null,
            "align_items": null,
            "bottom": null,
            "_model_module": "@jupyter-widgets/base",
            "top": null,
            "grid_column": null,
            "overflow_y": null,
            "overflow_x": null,
            "grid_auto_flow": null,
            "grid_area": null,
            "grid_template_columns": null,
            "flex": null,
            "_model_name": "LayoutModel",
            "justify_items": null,
            "grid_row": null,
            "max_height": null,
            "align_content": null,
            "visibility": null,
            "align_self": null,
            "height": null,
            "min_height": null,
            "padding": null,
            "grid_auto_rows": null,
            "grid_gap": null,
            "max_width": null,
            "order": null,
            "_view_module_version": "1.2.0",
            "grid_template_areas": null,
            "object_position": null,
            "object_fit": null,
            "grid_auto_columns": null,
            "margin": null,
            "display": null,
            "left": null
          }
        }
      }
    }
  },
  "cells": [
    {
      "cell_type": "markdown",
      "metadata": {
        "id": "view-in-github",
        "colab_type": "text"
      },
      "source": [
        "<a href=\"https://colab.research.google.com/github/jdmogollonp/Agiles_Apropiacion/blob/master/Rappi_Challenge.ipynb\" target=\"_parent\"><img src=\"https://colab.research.google.com/assets/colab-badge.svg\" alt=\"Open In Colab\"/></a>"
      ]
    },
    {
      "cell_type": "markdown",
      "metadata": {
        "id": "BCicagocSnls"
      },
      "source": [
        "\n",
        "# Rappi Data Science Challenge\n",
        "\n"
      ]
    },
    {
      "cell_type": "markdown",
      "metadata": {
        "id": "3CGDO7I0XHFQ"
      },
      "source": [
        "#Objetivo \n",
        "Objetivo : \n",
        "Identificar las subcategorías que le correspondería a cada producto\n",
        "en train_challenge, entrenar un clasificador y predecir las subcategorías para\n",
        "test_challenge.\n",
        "\n",
        "\n"
      ]
    },
    {
      "cell_type": "markdown",
      "metadata": {
        "id": "M4w0m8cRU-dB"
      },
      "source": [
        "# Librerias requeridas para el desarrollo de la prueba\n",
        "Para la transformación de los datos, así como para el entrenamiento de los modelos y la visualización de los resultados, se importan las siguientes librerías\n"
      ]
    },
    {
      "cell_type": "code",
      "metadata": {
        "id": "UtV7Yb_xU-An",
        "colab": {
          "base_uri": "https://localhost:8080/"
        },
        "outputId": "0a59dd61-64c6-4d6a-f697-288f2dbb92c9"
      },
      "source": [
        "!pip install transformers==3.1.0"
      ],
      "execution_count": 1,
      "outputs": [
        {
          "output_type": "stream",
          "text": [
            "Collecting transformers==3.1.0\n",
            "\u001b[?25l  Downloading https://files.pythonhosted.org/packages/ae/05/c8c55b600308dc04e95100dc8ad8a244dd800fe75dfafcf1d6348c6f6209/transformers-3.1.0-py3-none-any.whl (884kB)\n",
            "\r\u001b[K     |▍                               | 10kB 20.9MB/s eta 0:00:01\r\u001b[K     |▊                               | 20kB 15.3MB/s eta 0:00:01\r\u001b[K     |█▏                              | 30kB 14.5MB/s eta 0:00:01\r\u001b[K     |█▌                              | 40kB 15.1MB/s eta 0:00:01\r\u001b[K     |█▉                              | 51kB 12.9MB/s eta 0:00:01\r\u001b[K     |██▎                             | 61kB 13.3MB/s eta 0:00:01\r\u001b[K     |██▋                             | 71kB 13.0MB/s eta 0:00:01\r\u001b[K     |███                             | 81kB 14.2MB/s eta 0:00:01\r\u001b[K     |███▍                            | 92kB 13.6MB/s eta 0:00:01\r\u001b[K     |███▊                            | 102kB 14.0MB/s eta 0:00:01\r\u001b[K     |████                            | 112kB 14.0MB/s eta 0:00:01\r\u001b[K     |████▌                           | 122kB 14.0MB/s eta 0:00:01\r\u001b[K     |████▉                           | 133kB 14.0MB/s eta 0:00:01\r\u001b[K     |█████▏                          | 143kB 14.0MB/s eta 0:00:01\r\u001b[K     |█████▋                          | 153kB 14.0MB/s eta 0:00:01\r\u001b[K     |██████                          | 163kB 14.0MB/s eta 0:00:01\r\u001b[K     |██████▎                         | 174kB 14.0MB/s eta 0:00:01\r\u001b[K     |██████▊                         | 184kB 14.0MB/s eta 0:00:01\r\u001b[K     |███████                         | 194kB 14.0MB/s eta 0:00:01\r\u001b[K     |███████▍                        | 204kB 14.0MB/s eta 0:00:01\r\u001b[K     |███████▉                        | 215kB 14.0MB/s eta 0:00:01\r\u001b[K     |████████▏                       | 225kB 14.0MB/s eta 0:00:01\r\u001b[K     |████████▌                       | 235kB 14.0MB/s eta 0:00:01\r\u001b[K     |█████████                       | 245kB 14.0MB/s eta 0:00:01\r\u001b[K     |█████████▎                      | 256kB 14.0MB/s eta 0:00:01\r\u001b[K     |█████████▋                      | 266kB 14.0MB/s eta 0:00:01\r\u001b[K     |██████████                      | 276kB 14.0MB/s eta 0:00:01\r\u001b[K     |██████████▍                     | 286kB 14.0MB/s eta 0:00:01\r\u001b[K     |██████████▊                     | 296kB 14.0MB/s eta 0:00:01\r\u001b[K     |███████████▏                    | 307kB 14.0MB/s eta 0:00:01\r\u001b[K     |███████████▌                    | 317kB 14.0MB/s eta 0:00:01\r\u001b[K     |███████████▉                    | 327kB 14.0MB/s eta 0:00:01\r\u001b[K     |████████████▎                   | 337kB 14.0MB/s eta 0:00:01\r\u001b[K     |████████████▋                   | 348kB 14.0MB/s eta 0:00:01\r\u001b[K     |█████████████                   | 358kB 14.0MB/s eta 0:00:01\r\u001b[K     |█████████████▍                  | 368kB 14.0MB/s eta 0:00:01\r\u001b[K     |█████████████▊                  | 378kB 14.0MB/s eta 0:00:01\r\u001b[K     |██████████████                  | 389kB 14.0MB/s eta 0:00:01\r\u001b[K     |██████████████▌                 | 399kB 14.0MB/s eta 0:00:01\r\u001b[K     |██████████████▉                 | 409kB 14.0MB/s eta 0:00:01\r\u001b[K     |███████████████▏                | 419kB 14.0MB/s eta 0:00:01\r\u001b[K     |███████████████▋                | 430kB 14.0MB/s eta 0:00:01\r\u001b[K     |████████████████                | 440kB 14.0MB/s eta 0:00:01\r\u001b[K     |████████████████▎               | 450kB 14.0MB/s eta 0:00:01\r\u001b[K     |████████████████▊               | 460kB 14.0MB/s eta 0:00:01\r\u001b[K     |█████████████████               | 471kB 14.0MB/s eta 0:00:01\r\u001b[K     |█████████████████▍              | 481kB 14.0MB/s eta 0:00:01\r\u001b[K     |█████████████████▉              | 491kB 14.0MB/s eta 0:00:01\r\u001b[K     |██████████████████▏             | 501kB 14.0MB/s eta 0:00:01\r\u001b[K     |██████████████████▌             | 512kB 14.0MB/s eta 0:00:01\r\u001b[K     |███████████████████             | 522kB 14.0MB/s eta 0:00:01\r\u001b[K     |███████████████████▎            | 532kB 14.0MB/s eta 0:00:01\r\u001b[K     |███████████████████▋            | 542kB 14.0MB/s eta 0:00:01\r\u001b[K     |████████████████████            | 552kB 14.0MB/s eta 0:00:01\r\u001b[K     |████████████████████▍           | 563kB 14.0MB/s eta 0:00:01\r\u001b[K     |████████████████████▊           | 573kB 14.0MB/s eta 0:00:01\r\u001b[K     |█████████████████████▏          | 583kB 14.0MB/s eta 0:00:01\r\u001b[K     |█████████████████████▌          | 593kB 14.0MB/s eta 0:00:01\r\u001b[K     |█████████████████████▉          | 604kB 14.0MB/s eta 0:00:01\r\u001b[K     |██████████████████████▎         | 614kB 14.0MB/s eta 0:00:01\r\u001b[K     |██████████████████████▋         | 624kB 14.0MB/s eta 0:00:01\r\u001b[K     |███████████████████████         | 634kB 14.0MB/s eta 0:00:01\r\u001b[K     |███████████████████████▍        | 645kB 14.0MB/s eta 0:00:01\r\u001b[K     |███████████████████████▊        | 655kB 14.0MB/s eta 0:00:01\r\u001b[K     |████████████████████████        | 665kB 14.0MB/s eta 0:00:01\r\u001b[K     |████████████████████████▌       | 675kB 14.0MB/s eta 0:00:01\r\u001b[K     |████████████████████████▉       | 686kB 14.0MB/s eta 0:00:01\r\u001b[K     |█████████████████████████▏      | 696kB 14.0MB/s eta 0:00:01\r\u001b[K     |█████████████████████████▋      | 706kB 14.0MB/s eta 0:00:01\r\u001b[K     |██████████████████████████      | 716kB 14.0MB/s eta 0:00:01\r\u001b[K     |██████████████████████████▎     | 727kB 14.0MB/s eta 0:00:01\r\u001b[K     |██████████████████████████▊     | 737kB 14.0MB/s eta 0:00:01\r\u001b[K     |███████████████████████████     | 747kB 14.0MB/s eta 0:00:01\r\u001b[K     |███████████████████████████▍    | 757kB 14.0MB/s eta 0:00:01\r\u001b[K     |███████████████████████████▉    | 768kB 14.0MB/s eta 0:00:01\r\u001b[K     |████████████████████████████▏   | 778kB 14.0MB/s eta 0:00:01\r\u001b[K     |████████████████████████████▌   | 788kB 14.0MB/s eta 0:00:01\r\u001b[K     |█████████████████████████████   | 798kB 14.0MB/s eta 0:00:01\r\u001b[K     |█████████████████████████████▎  | 808kB 14.0MB/s eta 0:00:01\r\u001b[K     |█████████████████████████████▋  | 819kB 14.0MB/s eta 0:00:01\r\u001b[K     |██████████████████████████████  | 829kB 14.0MB/s eta 0:00:01\r\u001b[K     |██████████████████████████████▍ | 839kB 14.0MB/s eta 0:00:01\r\u001b[K     |██████████████████████████████▊ | 849kB 14.0MB/s eta 0:00:01\r\u001b[K     |███████████████████████████████▏| 860kB 14.0MB/s eta 0:00:01\r\u001b[K     |███████████████████████████████▌| 870kB 14.0MB/s eta 0:00:01\r\u001b[K     |███████████████████████████████▉| 880kB 14.0MB/s eta 0:00:01\r\u001b[K     |████████████████████████████████| 890kB 14.0MB/s \n",
            "\u001b[?25hRequirement already satisfied: regex!=2019.12.17 in /usr/local/lib/python3.6/dist-packages (from transformers==3.1.0) (2019.12.20)\n",
            "Requirement already satisfied: numpy in /usr/local/lib/python3.6/dist-packages (from transformers==3.1.0) (1.18.5)\n",
            "Collecting sacremoses\n",
            "\u001b[?25l  Downloading https://files.pythonhosted.org/packages/7d/34/09d19aff26edcc8eb2a01bed8e98f13a1537005d31e95233fd48216eed10/sacremoses-0.0.43.tar.gz (883kB)\n",
            "\u001b[K     |████████████████████████████████| 890kB 52.8MB/s \n",
            "\u001b[?25hRequirement already satisfied: filelock in /usr/local/lib/python3.6/dist-packages (from transformers==3.1.0) (3.0.12)\n",
            "Collecting sentencepiece!=0.1.92\n",
            "\u001b[?25l  Downloading https://files.pythonhosted.org/packages/e5/2d/6d4ca4bef9a67070fa1cac508606328329152b1df10bdf31fb6e4e727894/sentencepiece-0.1.94-cp36-cp36m-manylinux2014_x86_64.whl (1.1MB)\n",
            "\u001b[K     |████████████████████████████████| 1.1MB 48.5MB/s \n",
            "\u001b[?25hRequirement already satisfied: dataclasses; python_version < \"3.7\" in /usr/local/lib/python3.6/dist-packages (from transformers==3.1.0) (0.8)\n",
            "Requirement already satisfied: packaging in /usr/local/lib/python3.6/dist-packages (from transformers==3.1.0) (20.4)\n",
            "Requirement already satisfied: tqdm>=4.27 in /usr/local/lib/python3.6/dist-packages (from transformers==3.1.0) (4.41.1)\n",
            "Requirement already satisfied: requests in /usr/local/lib/python3.6/dist-packages (from transformers==3.1.0) (2.23.0)\n",
            "Collecting tokenizers==0.8.1.rc2\n",
            "\u001b[?25l  Downloading https://files.pythonhosted.org/packages/80/83/8b9fccb9e48eeb575ee19179e2bdde0ee9a1904f97de5f02d19016b8804f/tokenizers-0.8.1rc2-cp36-cp36m-manylinux1_x86_64.whl (3.0MB)\n",
            "\u001b[K     |████████████████████████████████| 3.0MB 45.9MB/s \n",
            "\u001b[?25hRequirement already satisfied: six in /usr/local/lib/python3.6/dist-packages (from sacremoses->transformers==3.1.0) (1.15.0)\n",
            "Requirement already satisfied: click in /usr/local/lib/python3.6/dist-packages (from sacremoses->transformers==3.1.0) (7.1.2)\n",
            "Requirement already satisfied: joblib in /usr/local/lib/python3.6/dist-packages (from sacremoses->transformers==3.1.0) (0.17.0)\n",
            "Requirement already satisfied: pyparsing>=2.0.2 in /usr/local/lib/python3.6/dist-packages (from packaging->transformers==3.1.0) (2.4.7)\n",
            "Requirement already satisfied: certifi>=2017.4.17 in /usr/local/lib/python3.6/dist-packages (from requests->transformers==3.1.0) (2020.11.8)\n",
            "Requirement already satisfied: urllib3!=1.25.0,!=1.25.1,<1.26,>=1.21.1 in /usr/local/lib/python3.6/dist-packages (from requests->transformers==3.1.0) (1.24.3)\n",
            "Requirement already satisfied: idna<3,>=2.5 in /usr/local/lib/python3.6/dist-packages (from requests->transformers==3.1.0) (2.10)\n",
            "Requirement already satisfied: chardet<4,>=3.0.2 in /usr/local/lib/python3.6/dist-packages (from requests->transformers==3.1.0) (3.0.4)\n",
            "Building wheels for collected packages: sacremoses\n",
            "  Building wheel for sacremoses (setup.py) ... \u001b[?25l\u001b[?25hdone\n",
            "  Created wheel for sacremoses: filename=sacremoses-0.0.43-cp36-none-any.whl size=893257 sha256=5df0aa71c67708e1aad0b77bd3c7f76380e1046322e72ce8b9cfdc1b088ce8b2\n",
            "  Stored in directory: /root/.cache/pip/wheels/29/3c/fd/7ce5c3f0666dab31a50123635e6fb5e19ceb42ce38d4e58f45\n",
            "Successfully built sacremoses\n",
            "Installing collected packages: sacremoses, sentencepiece, tokenizers, transformers\n",
            "Successfully installed sacremoses-0.0.43 sentencepiece-0.1.94 tokenizers-0.8.1rc2 transformers-3.1.0\n"
          ],
          "name": "stdout"
        }
      ]
    },
    {
      "cell_type": "code",
      "metadata": {
        "id": "OsQpv2KoDauv",
        "colab": {
          "base_uri": "https://localhost:8080/"
        },
        "outputId": "f50195f9-b80e-4cc5-c3c8-dc5a536c3abe"
      },
      "source": [
        "from transformers import pipeline\n",
        "import pandas as pd\n",
        "\n",
        "import numpy as np\n",
        "import re, string, unicodedata\n",
        "from wordcloud import WordCloud\n",
        "import seaborn as sns; sns.set()\n",
        "import matplotlib.pyplot as plt\n",
        "import inflect\n",
        "\n",
        "import nltk\n",
        "nltk.download('stopwords')\n",
        "nltk.download('punkt')\n",
        "nltk.download('wordnet')\n",
        "from nltk import word_tokenize, sent_tokenize\n",
        "from nltk.corpus import stopwords\n",
        "from nltk.probability import FreqDist\n",
        "\n",
        "from sklearn.model_selection import train_test_split,GridSearchCV,RandomizedSearchCV\n",
        "from sklearn.feature_extraction.text import TfidfVectorizer, CountVectorizer, HashingVectorizer\n",
        "from sklearn.pipeline import Pipeline, FeatureUnion\n",
        "from sklearn.metrics import classification_report, confusion_matrix, plot_precision_recall_curve, accuracy_score, make_scorer\n",
        "\n",
        "import tensorflow as tf\n",
        "from tensorflow.keras.models import Sequential\n",
        "from tensorflow.keras.layers import Dense, Dropout, Activation\n",
        "from tensorflow.keras.preprocessing.text import Tokenizer\n",
        "from tensorflow.keras.callbacks import ModelCheckpoint, EarlyStopping\n",
        "from keras.wrappers.scikit_learn import KerasClassifier\n",
        "from sklearn.pipeline import Pipeline, FeatureUnion\n",
        "\n"
      ],
      "execution_count": 3,
      "outputs": [
        {
          "output_type": "stream",
          "text": [
            "[nltk_data] Downloading package stopwords to /root/nltk_data...\n",
            "[nltk_data]   Unzipping corpora/stopwords.zip.\n",
            "[nltk_data] Downloading package punkt to /root/nltk_data...\n",
            "[nltk_data]   Unzipping tokenizers/punkt.zip.\n",
            "[nltk_data] Downloading package wordnet to /root/nltk_data...\n",
            "[nltk_data]   Unzipping corpora/wordnet.zip.\n"
          ],
          "name": "stdout"
        }
      ]
    },
    {
      "cell_type": "markdown",
      "metadata": {
        "id": "VSjvhM-uWQwE"
      },
      "source": [
        "#  Perfilamiento y entendimiento de los datos\n"
      ]
    },
    {
      "cell_type": "markdown",
      "metadata": {
        "id": "xQ-JCPzOr46G"
      },
      "source": [
        "En primer lugar, se realizan algunas tareas de procesamiento de los textos como tokenización, se remueven stopwords, términos no ascii, asi mismo se remueve la puntuación y se pasan a minúscula los tokens. Y en segundo lugar, se presenta un breve análisis exploratorio de los textos en términos de la distribución de frecuencias de palabras que se encuentran en los nombres de los productos. \n",
        "\n"
      ]
    },
    {
      "cell_type": "code",
      "metadata": {
        "id": "nEkCsSTKtTS9"
      },
      "source": [
        "data   = pd.read_csv(\"train_challenge.csv\", sep = ',')"
      ],
      "execution_count": 5,
      "outputs": []
    },
    {
      "cell_type": "code",
      "metadata": {
        "id": "JU6emVy-tXwI"
      },
      "source": [
        "# functions to clean texts\n",
        "\n",
        "def remove_non_ascii(words):\n",
        "    new_words = []\n",
        "    for word in words:\n",
        "        new_word = unicodedata.normalize('NFKD', word).encode('ascii', 'ignore').decode('utf-8', 'ignore')\n",
        "        new_words.append(new_word)\n",
        "    return new_words\n",
        "\n",
        "def to_lowercase(words):\n",
        "    \"\"\"Convert all characters to lowercase from list of tokenized words\"\"\"\n",
        "    new_words = []\n",
        "    for word in words:\n",
        "        new_word = word.lower()\n",
        "        new_words.append(new_word)\n",
        "    return new_words\n",
        "\n",
        "def remove_punctuation(words):\n",
        "    \"\"\"Remove punctuation from list of tokenized words\"\"\"\n",
        "    new_words = []\n",
        "    for word in words:\n",
        "        new_word = re.sub(r'[^\\w\\s]', '', word)\n",
        "        if new_word != '':\n",
        "            new_words.append(new_word)\n",
        "    return new_words\n",
        "\n",
        "def remove_stopwords(words):\n",
        "    \"\"\"Remove stop words from list of tokenized words\"\"\"\n",
        "    new_words = []\n",
        "    for word in words:\n",
        "        if word not in stopwords.words('english'):\n",
        "            new_words.append(word)\n",
        "    return new_words\n",
        "\n",
        "def preproccesing(words):\n",
        "    words = to_lowercase(words)\n",
        "    words = remove_punctuation(words)\n",
        "    words = remove_stopwords(words)\n",
        "    return words"
      ],
      "execution_count": 6,
      "outputs": []
    },
    {
      "cell_type": "code",
      "metadata": {
        "colab": {
          "base_uri": "https://localhost:8080/",
          "height": 195
        },
        "id": "i45JSf0Dwaza",
        "outputId": "9c1aaa83-67b5-4a02-8792-3d8f864fd702"
      },
      "source": [
        "data['words'] = data['name'].apply(word_tokenize)\n",
        "data['words'] = data['words'].apply(preproccesing)\n",
        "data['words'] = data['words'].apply(lambda x: ' '.join(map(str, x)))\n",
        "data.head()"
      ],
      "execution_count": 7,
      "outputs": [
        {
          "output_type": "execute_result",
          "data": {
            "text/html": [
              "<div>\n",
              "<style scoped>\n",
              "    .dataframe tbody tr th:only-of-type {\n",
              "        vertical-align: middle;\n",
              "    }\n",
              "\n",
              "    .dataframe tbody tr th {\n",
              "        vertical-align: top;\n",
              "    }\n",
              "\n",
              "    .dataframe thead th {\n",
              "        text-align: right;\n",
              "    }\n",
              "</style>\n",
              "<table border=\"1\" class=\"dataframe\">\n",
              "  <thead>\n",
              "    <tr style=\"text-align: right;\">\n",
              "      <th></th>\n",
              "      <th>name</th>\n",
              "      <th>description</th>\n",
              "      <th>maker</th>\n",
              "      <th>trademark</th>\n",
              "      <th>words</th>\n",
              "    </tr>\n",
              "  </thead>\n",
              "  <tbody>\n",
              "    <tr>\n",
              "      <th>0</th>\n",
              "      <td>Cerveza Otro Mundo 500 Ml</td>\n",
              "      <td>Cerveza Otro Mundo 500 Ml</td>\n",
              "      <td>NaN</td>\n",
              "      <td>Otro Mundo</td>\n",
              "      <td>cerveza otro mundo 500 ml</td>\n",
              "    </tr>\n",
              "    <tr>\n",
              "      <th>1</th>\n",
              "      <td>Vino San Telmo Varietales X750Ml.</td>\n",
              "      <td>Vino San Telmo Varietales X750Ml.</td>\n",
              "      <td>NaN</td>\n",
              "      <td>San Telmo</td>\n",
              "      <td>vino san telmo varietales x750ml</td>\n",
              "    </tr>\n",
              "    <tr>\n",
              "      <th>2</th>\n",
              "      <td>Mayonesa Natura 1000cc</td>\n",
              "      <td>Mayonesa Natura con jugo de limon sachet x 100...</td>\n",
              "      <td>gallega</td>\n",
              "      <td>Natura</td>\n",
              "      <td>mayonesa natura 1000cc</td>\n",
              "    </tr>\n",
              "    <tr>\n",
              "      <th>3</th>\n",
              "      <td>Brahma Chopp 354cc x 6</td>\n",
              "      <td>Brahma Chopp 354cc x 6</td>\n",
              "      <td>NaN</td>\n",
              "      <td>Brahma</td>\n",
              "      <td>brahma chopp 354cc x 6</td>\n",
              "    </tr>\n",
              "    <tr>\n",
              "      <th>4</th>\n",
              "      <td>Mayonesa HellmannS Light Doypack 237 Gr</td>\n",
              "      <td>Mayonesa HellmannS Light Doypack 237 Gr</td>\n",
              "      <td>NaN</td>\n",
              "      <td>Hellmann´S</td>\n",
              "      <td>mayonesa hellmanns light doypack 237 gr</td>\n",
              "    </tr>\n",
              "  </tbody>\n",
              "</table>\n",
              "</div>"
            ],
            "text/plain": [
              "                                      name  ...                                    words\n",
              "0                Cerveza Otro Mundo 500 Ml  ...                cerveza otro mundo 500 ml\n",
              "1        Vino San Telmo Varietales X750Ml.  ...         vino san telmo varietales x750ml\n",
              "2                   Mayonesa Natura 1000cc  ...                   mayonesa natura 1000cc\n",
              "3                   Brahma Chopp 354cc x 6  ...                   brahma chopp 354cc x 6\n",
              "4  Mayonesa HellmannS Light Doypack 237 Gr  ...  mayonesa hellmanns light doypack 237 gr\n",
              "\n",
              "[5 rows x 5 columns]"
            ]
          },
          "metadata": {
            "tags": []
          },
          "execution_count": 7
        }
      ]
    },
    {
      "cell_type": "markdown",
      "metadata": {
        "id": "oL9am8iiARee"
      },
      "source": [
        "En la siguiente ilustración se presenta la nube de palabras que representa la distribución de frecuencias de los tokens presentando aquellos que aparecen más de 20 veces."
      ]
    },
    {
      "cell_type": "code",
      "metadata": {
        "id": "3To-nqEkW_ZD",
        "colab": {
          "base_uri": "https://localhost:8080/",
          "height": 198
        },
        "outputId": "307e0db4-1982-4a5d-dc7d-f0c548cb6d7a"
      },
      "source": [
        "words = data['words']\n",
        "words = [w for w in words if len(w) > 20]  \n",
        "words = [w.lower() for w in words]\n",
        "clean_string = ','.join(words)\n",
        "\n",
        "text = clean_string\n",
        "wordcloud = WordCloud().generate(text)\n",
        "plt.imshow(wordcloud, interpolation='bilinear')\n",
        "plt.axis(\"off\")\n",
        "plt.show()"
      ],
      "execution_count": 8,
      "outputs": [
        {
          "output_type": "display_data",
          "data": {
            "image/png": "[encoded data removed]",
            "text/plain": [
              "<Figure size 432x288 with 1 Axes>"
            ]
          },
          "metadata": {
            "tags": []
          }
        }
      ]
    },
    {
      "cell_type": "markdown",
      "metadata": {
        "id": "Vw91YTccOYbh"
      },
      "source": [
        "De esta nube de palabras queda en evidencia por ejemplo,que el token 'vino' es uno de los tokens más frecuentes en los nombres de los productos.\n"
      ]
    },
    {
      "cell_type": "code",
      "metadata": {
        "id": "jh4QkvEe1w3k",
        "colab": {
          "base_uri": "https://localhost:8080/",
          "height": 195
        },
        "outputId": "4d50aad2-0269-4d2a-c123-1e46d6081a56"
      },
      "source": [
        "data['first_words']  = data.words.str.split().str.get(0)\n",
        "data.head(5)"
      ],
      "execution_count": 9,
      "outputs": [
        {
          "output_type": "execute_result",
          "data": {
            "text/html": [
              "<div>\n",
              "<style scoped>\n",
              "    .dataframe tbody tr th:only-of-type {\n",
              "        vertical-align: middle;\n",
              "    }\n",
              "\n",
              "    .dataframe tbody tr th {\n",
              "        vertical-align: top;\n",
              "    }\n",
              "\n",
              "    .dataframe thead th {\n",
              "        text-align: right;\n",
              "    }\n",
              "</style>\n",
              "<table border=\"1\" class=\"dataframe\">\n",
              "  <thead>\n",
              "    <tr style=\"text-align: right;\">\n",
              "      <th></th>\n",
              "      <th>name</th>\n",
              "      <th>description</th>\n",
              "      <th>maker</th>\n",
              "      <th>trademark</th>\n",
              "      <th>words</th>\n",
              "      <th>first_words</th>\n",
              "    </tr>\n",
              "  </thead>\n",
              "  <tbody>\n",
              "    <tr>\n",
              "      <th>0</th>\n",
              "      <td>Cerveza Otro Mundo 500 Ml</td>\n",
              "      <td>Cerveza Otro Mundo 500 Ml</td>\n",
              "      <td>NaN</td>\n",
              "      <td>Otro Mundo</td>\n",
              "      <td>cerveza otro mundo 500 ml</td>\n",
              "      <td>cerveza</td>\n",
              "    </tr>\n",
              "    <tr>\n",
              "      <th>1</th>\n",
              "      <td>Vino San Telmo Varietales X750Ml.</td>\n",
              "      <td>Vino San Telmo Varietales X750Ml.</td>\n",
              "      <td>NaN</td>\n",
              "      <td>San Telmo</td>\n",
              "      <td>vino san telmo varietales x750ml</td>\n",
              "      <td>vino</td>\n",
              "    </tr>\n",
              "    <tr>\n",
              "      <th>2</th>\n",
              "      <td>Mayonesa Natura 1000cc</td>\n",
              "      <td>Mayonesa Natura con jugo de limon sachet x 100...</td>\n",
              "      <td>gallega</td>\n",
              "      <td>Natura</td>\n",
              "      <td>mayonesa natura 1000cc</td>\n",
              "      <td>mayonesa</td>\n",
              "    </tr>\n",
              "    <tr>\n",
              "      <th>3</th>\n",
              "      <td>Brahma Chopp 354cc x 6</td>\n",
              "      <td>Brahma Chopp 354cc x 6</td>\n",
              "      <td>NaN</td>\n",
              "      <td>Brahma</td>\n",
              "      <td>brahma chopp 354cc x 6</td>\n",
              "      <td>brahma</td>\n",
              "    </tr>\n",
              "    <tr>\n",
              "      <th>4</th>\n",
              "      <td>Mayonesa HellmannS Light Doypack 237 Gr</td>\n",
              "      <td>Mayonesa HellmannS Light Doypack 237 Gr</td>\n",
              "      <td>NaN</td>\n",
              "      <td>Hellmann´S</td>\n",
              "      <td>mayonesa hellmanns light doypack 237 gr</td>\n",
              "      <td>mayonesa</td>\n",
              "    </tr>\n",
              "  </tbody>\n",
              "</table>\n",
              "</div>"
            ],
            "text/plain": [
              "                                      name  ... first_words\n",
              "0                Cerveza Otro Mundo 500 Ml  ...     cerveza\n",
              "1        Vino San Telmo Varietales X750Ml.  ...        vino\n",
              "2                   Mayonesa Natura 1000cc  ...    mayonesa\n",
              "3                   Brahma Chopp 354cc x 6  ...      brahma\n",
              "4  Mayonesa HellmannS Light Doypack 237 Gr  ...    mayonesa\n",
              "\n",
              "[5 rows x 6 columns]"
            ]
          },
          "metadata": {
            "tags": []
          },
          "execution_count": 9
        }
      ]
    },
    {
      "cell_type": "markdown",
      "metadata": {
        "id": "ZECJI_D75LCG"
      },
      "source": [
        "Se considera además los conteos de las palabras que aparecen en la primera posición del nombre del producto. "
      ]
    },
    {
      "cell_type": "code",
      "metadata": {
        "id": "mQkF45zUW_ib",
        "colab": {
          "base_uri": "https://localhost:8080/"
        },
        "outputId": "8d0819e1-95cf-4c52-91a9-717cdec26056"
      },
      "source": [
        "first_words  = pd.DataFrame(data.words.str.split().str.get(0))\n",
        "first_words.sort_values(\"words\", inplace = True) \n",
        "first_words.words.value_counts()"
      ],
      "execution_count": 10,
      "outputs": [
        {
          "output_type": "execute_result",
          "data": {
            "text/plain": [
              "vino           2116\n",
              "queso           958\n",
              "jugo            672\n",
              "cerveza         640\n",
              "agua            554\n",
              "               ... \n",
              "centro            1\n",
              "mast              1\n",
              "huevofrozen       1\n",
              "trozos            1\n",
              "pomelada          1\n",
              "Name: words, Length: 322, dtype: int64"
            ]
          },
          "metadata": {
            "tags": []
          },
          "execution_count": 10
        }
      ]
    },
    {
      "cell_type": "markdown",
      "metadata": {
        "id": "f96KNzJlSEaQ"
      },
      "source": [
        "Del conteo de las primeras palabras de los nombres de los productos se encontró que hay 322 palabras distintas. En la siguiente gráfica se muestra la frecuencia  de las 30 palabras más comunes. \n",
        "\n",
        "Se puede ver que en las 20 palabras más frecuentes se encuentra el 80% de los datos.\n",
        "\n",
        "\n",
        "\n"
      ]
    },
    {
      "cell_type": "code",
      "metadata": {
        "colab": {
          "base_uri": "https://localhost:8080/",
          "height": 353
        },
        "id": "T1FJRKib3U8d",
        "outputId": "f8133ac3-19fa-4757-9fb1-71d2e4ea72f8"
      },
      "source": [
        "words = [w for w in first_words.words ]\n",
        "words_freq = FreqDist(words)\n",
        "words_freq.plot(30,title='Cumulative frequency distribution for 30 most common productos', cumulative=True)"
      ],
      "execution_count": 11,
      "outputs": [
        {
          "output_type": "display_data",
          "data": {
            "image/png": "[encoded data removed]",
            "text/plain": [
              "<Figure size 432x288 with 1 Axes>"
            ]
          },
          "metadata": {
            "tags": []
          }
        }
      ]
    },
    {
      "cell_type": "markdown",
      "metadata": {
        "id": "8uKX8QNMXAKB"
      },
      "source": [
        "\n",
        "\n",
        "# Identificación de las categorias para el conjunto de entrenamiento\n",
        "\n",
        "\n",
        "\n"
      ]
    },
    {
      "cell_type": "markdown",
      "metadata": {
        "id": "ltV7L0eS9dLu"
      },
      "source": [
        "Para la identificación de las categorías se hace uso de la estrategia denominada \"Zero-Shot Classification\" la cuál está basada en el modelo pre-entrenado disponible en el [sitio web](https://huggingface.co/joeddav/xlm-roberta-large-xnli) de Huggingface. La descripción se encuentra  en el [artículo](https://arxiv.org/abs/1911.02116)  que introduce el modelo XLM Roberta. La implementación en este caso se realiza en español por lo que se considera un modelo cross-lingual, basado en  XLM RoBERTa(`model='joeddav/xlm-roberta-large-xnli').\n",
        "\n",
        "En cuanto a la implementación, se define un pipeline que hace uso de la lista de categorías predefinidas para los productos. Se asume en este ejercicio que los productos pueden pertenecer a múltiples categorías (multi_class = True). Por lo que los resultados serán independientes y estarán entre cero y uno para cada categoría y para efectos del entrenamiento del clasificador se considera la categoría con el puntaje más alto.\n",
        "\n",
        "Esta estrategia permite resolver el problema de la clasificación no supervisada de los nombres de los productos ya que no se tienen de antemano las categorías de cada producto y tampoco se tiene suficiente información para entrenar un modelo Guided-Lda.\n",
        "\n"
      ]
    },
    {
      "cell_type": "code",
      "metadata": {
        "id": "o_Bk3_4AYukx",
        "colab": {
          "base_uri": "https://localhost:8080/",
          "height": 265,
          "referenced_widgets": [
            "76834895ebfd435583376dfe6316b4db",
            "276880a3a7dd412ab43bee1c6fe654de",
            "0e45ad45d548401d8990f6ea61b5796d",
            "b6cbc1377da04fa5a3418cd9fb3b00c9",
            "d0c24976b3d64e32b2c73a26b3a24d30",
            "44a16411b47947d1b6e1af7579bff8a1",
            "a23c7a81f626484492f7b13771ac7f35",
            "1f533b127b2143acaeb847cf13692419",
            "5d602b9ad93d4683b39a5b0049f23d08",
            "c4572d0425794523b7164e90f08a5a2a",
            "905e02ca90c847e7a9a666a50f747477",
            "f882992c2f194d12abbd1ce00b511b08",
            "ed8b9262a6db41e19df6189e301a8fbb",
            "1e9b26caa60441d195edd306384a84a3",
            "598087ae398f4c07bcd7de64a1d04d7b",
            "1b107e330649481e8062642fe3ec6769",
            "e94191a45f374719a6b9d80949087724",
            "19629e9301cf4361b8f2b92ffb3e3d52",
            "8751e47b77b94a23b9020b8731586ecf",
            "1db3ac960ef84611b47188842cae13ce",
            "bc9628c6dcf4428a95cf5137c954a6f2",
            "1c55c0a4724c4dd1bdb183551664b2ba",
            "e0e864505ab34d8b8408981ee240f7ed",
            "908699215d5c4e72a910f208498f56a7",
            "b91f53d709dd4e7ea7f9e81b93e346d1",
            "d1ffcd0a12964e33825f3f304f751284",
            "4799dafc201e45098d48afa8a47029c2",
            "1ef20a4ba0144180938c13acf20c805a",
            "c7e4c03515fb483f8fdc9bcba1aaeb97",
            "465ff98aabdc4e9e87cd1daa71c26ab3",
            "dee9c256fc87468380d375d47ae668ad",
            "4cb72341efd54ee38be38a72c83d1166",
            "72d0fc693a254355a0e7b4e4ac9e5219",
            "d1c3e7cb352741cea05e24b7b820ba76",
            "50a6c80f58144c7280b3cf83b28a3111",
            "9f9173ad1b524886b1ad772ab85b5501",
            "7fc8463daacf47858e8c5fda63c4a042",
            "f5c778b717db4e73b580e07386f9dcf6",
            "5f41c449fc6247208618647a69e835b9",
            "72f2985436fc42d7bb6f28631c84e37c"
          ]
        },
        "outputId": "2833c5a1-67df-423e-d1c2-4f75c3106e4f"
      },
      "source": [
        "classifier = pipeline(\"zero-shot-classification\", model='joeddav/xlm-roberta-large-xnli')"
      ],
      "execution_count": 12,
      "outputs": [
        {
          "output_type": "display_data",
          "data": {
            "application/vnd.jupyter.widget-view+json": {
              "model_id": "76834895ebfd435583376dfe6316b4db",
              "version_minor": 0,
              "version_major": 2
            },
            "text/plain": [
              "HBox(children=(FloatProgress(value=0.0, description='Downloading', max=734.0, style=ProgressStyle(description_…"
            ]
          },
          "metadata": {
            "tags": []
          }
        },
        {
          "output_type": "stream",
          "text": [
            "\n"
          ],
          "name": "stdout"
        },
        {
          "output_type": "display_data",
          "data": {
            "application/vnd.jupyter.widget-view+json": {
              "model_id": "5d602b9ad93d4683b39a5b0049f23d08",
              "version_minor": 0,
              "version_major": 2
            },
            "text/plain": [
              "HBox(children=(FloatProgress(value=0.0, description='Downloading', max=5069051.0, style=ProgressStyle(descript…"
            ]
          },
          "metadata": {
            "tags": []
          }
        },
        {
          "output_type": "stream",
          "text": [
            "\n"
          ],
          "name": "stdout"
        },
        {
          "output_type": "display_data",
          "data": {
            "application/vnd.jupyter.widget-view+json": {
              "model_id": "e94191a45f374719a6b9d80949087724",
              "version_minor": 0,
              "version_major": 2
            },
            "text/plain": [
              "HBox(children=(FloatProgress(value=0.0, description='Downloading', max=150.0, style=ProgressStyle(description_…"
            ]
          },
          "metadata": {
            "tags": []
          }
        },
        {
          "output_type": "stream",
          "text": [
            "\n"
          ],
          "name": "stdout"
        },
        {
          "output_type": "display_data",
          "data": {
            "application/vnd.jupyter.widget-view+json": {
              "model_id": "b91f53d709dd4e7ea7f9e81b93e346d1",
              "version_minor": 0,
              "version_major": 2
            },
            "text/plain": [
              "HBox(children=(FloatProgress(value=0.0, description='Downloading', max=25.0, style=ProgressStyle(description_w…"
            ]
          },
          "metadata": {
            "tags": []
          }
        },
        {
          "output_type": "stream",
          "text": [
            "\n"
          ],
          "name": "stdout"
        },
        {
          "output_type": "display_data",
          "data": {
            "application/vnd.jupyter.widget-view+json": {
              "model_id": "72d0fc693a254355a0e7b4e4ac9e5219",
              "version_minor": 0,
              "version_major": 2
            },
            "text/plain": [
              "HBox(children=(FloatProgress(value=0.0, description='Downloading', max=2243942751.0, style=ProgressStyle(descr…"
            ]
          },
          "metadata": {
            "tags": []
          }
        },
        {
          "output_type": "stream",
          "text": [
            "\n"
          ],
          "name": "stdout"
        }
      ]
    },
    {
      "cell_type": "code",
      "metadata": {
        "id": "WcoT11bFSeM-"
      },
      "source": [
        "def semantic_similarity(sequence):\n",
        "  candidate_labels = ['Fiambres', 'Panificados', 'Salchichas', 'Aderezos','Aceites y Vinagres', 'Golosinas y Chocolates', \n",
        "                'Jugos', 'Aguas', 'Vinos', 'Cervezas', 'Whiskies', 'Champagnes' ,'Quesos', 'Leches', 'Yogures']\n",
        "  categories = classifier(sequence, candidate_labels,multi_class=True)\n",
        "  return categories['labels'][0]"
      ],
      "execution_count": 14,
      "outputs": []
    },
    {
      "cell_type": "markdown",
      "metadata": {
        "id": "YE80DKkrSwpV"
      },
      "source": [
        "El clasificador instanciado considera la lista de las categorias predefinidas y realiza la clasificación semantica  de frases y palabras. En el siguiente ejemplo se muestra el resultado del clasificador para un producto del dataset. "
      ]
    },
    {
      "cell_type": "code",
      "metadata": {
        "colab": {
          "base_uri": "https://localhost:8080/",
          "height": 70
        },
        "id": "OE1ysOknSvvC",
        "outputId": "afed54f8-805d-4860-d779-b9fc0c3acf0a"
      },
      "source": [
        "%%time\n",
        "semantic_similarity(\"Cerveza Otro Mundo 500 Ml\")"
      ],
      "execution_count": 15,
      "outputs": [
        {
          "output_type": "stream",
          "text": [
            "CPU times: user 3.47 s, sys: 16.9 ms, total: 3.49 s\n",
            "Wall time: 3.66 s\n"
          ],
          "name": "stdout"
        },
        {
          "output_type": "execute_result",
          "data": {
            "application/vnd.google.colaboratory.intrinsic+json": {
              "type": "string"
            },
            "text/plain": [
              "'Cervezas'"
            ]
          },
          "metadata": {
            "tags": []
          },
          "execution_count": 15
        }
      ]
    },
    {
      "cell_type": "markdown",
      "metadata": {
        "id": "T5b3MR4gUK0o"
      },
      "source": [
        "El tiempo de procesamiento de la clasificación de un registro utilizando el modelo propuesto esta por encima de 3 segundos para cada registro. Por lo que, evaluar el modelo para los 10 mil registros del conjunto de entrenamiento puede tomar alrededor de 10 horas. \n",
        "\n",
        "Como estrategia para determinar las categorías de todos los productos y ahorrar tiempo de procesamiento se evaluará el clasificador únicamente en las 322 palabras diferentes encontradas en la primera posición de los nombres de los productos.\n",
        "\n",
        "\n"
      ]
    },
    {
      "cell_type": "code",
      "metadata": {
        "id": "RxloNY8XSd-B",
        "colab": {
          "base_uri": "https://localhost:8080/",
          "height": 229
        },
        "outputId": "f4852cdc-b8e9-4c4c-cfbd-6688c2097d62"
      },
      "source": [
        "training_df = data.copy()\n",
        "training_df['key'] = training_df.first_words\n",
        "training_df.head(5)"
      ],
      "execution_count": 16,
      "outputs": [
        {
          "output_type": "execute_result",
          "data": {
            "text/html": [
              "<div>\n",
              "<style scoped>\n",
              "    .dataframe tbody tr th:only-of-type {\n",
              "        vertical-align: middle;\n",
              "    }\n",
              "\n",
              "    .dataframe tbody tr th {\n",
              "        vertical-align: top;\n",
              "    }\n",
              "\n",
              "    .dataframe thead th {\n",
              "        text-align: right;\n",
              "    }\n",
              "</style>\n",
              "<table border=\"1\" class=\"dataframe\">\n",
              "  <thead>\n",
              "    <tr style=\"text-align: right;\">\n",
              "      <th></th>\n",
              "      <th>name</th>\n",
              "      <th>description</th>\n",
              "      <th>maker</th>\n",
              "      <th>trademark</th>\n",
              "      <th>words</th>\n",
              "      <th>first_words</th>\n",
              "      <th>key</th>\n",
              "    </tr>\n",
              "  </thead>\n",
              "  <tbody>\n",
              "    <tr>\n",
              "      <th>0</th>\n",
              "      <td>Cerveza Otro Mundo 500 Ml</td>\n",
              "      <td>Cerveza Otro Mundo 500 Ml</td>\n",
              "      <td>NaN</td>\n",
              "      <td>Otro Mundo</td>\n",
              "      <td>cerveza otro mundo 500 ml</td>\n",
              "      <td>cerveza</td>\n",
              "      <td>cerveza</td>\n",
              "    </tr>\n",
              "    <tr>\n",
              "      <th>1</th>\n",
              "      <td>Vino San Telmo Varietales X750Ml.</td>\n",
              "      <td>Vino San Telmo Varietales X750Ml.</td>\n",
              "      <td>NaN</td>\n",
              "      <td>San Telmo</td>\n",
              "      <td>vino san telmo varietales x750ml</td>\n",
              "      <td>vino</td>\n",
              "      <td>vino</td>\n",
              "    </tr>\n",
              "    <tr>\n",
              "      <th>2</th>\n",
              "      <td>Mayonesa Natura 1000cc</td>\n",
              "      <td>Mayonesa Natura con jugo de limon sachet x 100...</td>\n",
              "      <td>gallega</td>\n",
              "      <td>Natura</td>\n",
              "      <td>mayonesa natura 1000cc</td>\n",
              "      <td>mayonesa</td>\n",
              "      <td>mayonesa</td>\n",
              "    </tr>\n",
              "    <tr>\n",
              "      <th>3</th>\n",
              "      <td>Brahma Chopp 354cc x 6</td>\n",
              "      <td>Brahma Chopp 354cc x 6</td>\n",
              "      <td>NaN</td>\n",
              "      <td>Brahma</td>\n",
              "      <td>brahma chopp 354cc x 6</td>\n",
              "      <td>brahma</td>\n",
              "      <td>brahma</td>\n",
              "    </tr>\n",
              "    <tr>\n",
              "      <th>4</th>\n",
              "      <td>Mayonesa HellmannS Light Doypack 237 Gr</td>\n",
              "      <td>Mayonesa HellmannS Light Doypack 237 Gr</td>\n",
              "      <td>NaN</td>\n",
              "      <td>Hellmann´S</td>\n",
              "      <td>mayonesa hellmanns light doypack 237 gr</td>\n",
              "      <td>mayonesa</td>\n",
              "      <td>mayonesa</td>\n",
              "    </tr>\n",
              "  </tbody>\n",
              "</table>\n",
              "</div>"
            ],
            "text/plain": [
              "                                      name  ...       key\n",
              "0                Cerveza Otro Mundo 500 Ml  ...   cerveza\n",
              "1        Vino San Telmo Varietales X750Ml.  ...      vino\n",
              "2                   Mayonesa Natura 1000cc  ...  mayonesa\n",
              "3                   Brahma Chopp 354cc x 6  ...    brahma\n",
              "4  Mayonesa HellmannS Light Doypack 237 Gr  ...  mayonesa\n",
              "\n",
              "[5 rows x 7 columns]"
            ]
          },
          "metadata": {
            "tags": []
          },
          "execution_count": 16
        }
      ]
    },
    {
      "cell_type": "code",
      "metadata": {
        "colab": {
          "base_uri": "https://localhost:8080/"
        },
        "id": "F3sXxeIGc_mK",
        "outputId": "86046d9c-6ec6-4a67-b174-9d5a7c202398"
      },
      "source": [
        "# dropping ALL duplicte values \n",
        "first_words.drop_duplicates(subset =\"words\", \n",
        "                     keep = 'first', inplace = True) \n",
        "first_words.shape"
      ],
      "execution_count": 17,
      "outputs": [
        {
          "output_type": "execute_result",
          "data": {
            "text/plain": [
              "(322, 1)"
            ]
          },
          "metadata": {
            "tags": []
          },
          "execution_count": 17
        }
      ]
    },
    {
      "cell_type": "code",
      "metadata": {
        "colab": {
          "base_uri": "https://localhost:8080/"
        },
        "id": "BBXqsKnOOeNW",
        "outputId": "0ed3a446-b20a-4510-d506-39f8737ec127"
      },
      "source": [
        "%%time\n",
        "first_words['categoria'] = first_words.apply(lambda x : semantic_similarity(x['words']),axis=1)"
      ],
      "execution_count": 18,
      "outputs": [
        {
          "output_type": "stream",
          "text": [
            "CPU times: user 13min 36s, sys: 2.15 s, total: 13min 38s\n",
            "Wall time: 13min 38s\n"
          ],
          "name": "stdout"
        }
      ]
    },
    {
      "cell_type": "code",
      "metadata": {
        "id": "mBzuMWNuKt10",
        "colab": {
          "base_uri": "https://localhost:8080/",
          "height": 195
        },
        "outputId": "e254fe8b-dbe2-4b03-d53b-8ef073374f99"
      },
      "source": [
        "first_words.rename(columns={\"words\": \"key\"}, inplace = True)\n",
        "first_words.head(5)"
      ],
      "execution_count": 21,
      "outputs": [
        {
          "output_type": "execute_result",
          "data": {
            "text/html": [
              "<div>\n",
              "<style scoped>\n",
              "    .dataframe tbody tr th:only-of-type {\n",
              "        vertical-align: middle;\n",
              "    }\n",
              "\n",
              "    .dataframe tbody tr th {\n",
              "        vertical-align: top;\n",
              "    }\n",
              "\n",
              "    .dataframe thead th {\n",
              "        text-align: right;\n",
              "    }\n",
              "</style>\n",
              "<table border=\"1\" class=\"dataframe\">\n",
              "  <thead>\n",
              "    <tr style=\"text-align: right;\">\n",
              "      <th></th>\n",
              "      <th>key</th>\n",
              "      <th>categoria</th>\n",
              "    </tr>\n",
              "  </thead>\n",
              "  <tbody>\n",
              "    <tr>\n",
              "      <th>5404</th>\n",
              "      <td>aberlour</td>\n",
              "      <td>Aderezos</td>\n",
              "    </tr>\n",
              "    <tr>\n",
              "      <th>8377</th>\n",
              "      <td>aceite</td>\n",
              "      <td>Aceites y Vinagres</td>\n",
              "    </tr>\n",
              "    <tr>\n",
              "      <th>2883</th>\n",
              "      <td>aceto</td>\n",
              "      <td>Aceites y Vinagres</td>\n",
              "    </tr>\n",
              "    <tr>\n",
              "      <th>9131</th>\n",
              "      <td>aderezo</td>\n",
              "      <td>Aderezos</td>\n",
              "    </tr>\n",
              "    <tr>\n",
              "      <th>9657</th>\n",
              "      <td>adobo</td>\n",
              "      <td>Aderezos</td>\n",
              "    </tr>\n",
              "  </tbody>\n",
              "</table>\n",
              "</div>"
            ],
            "text/plain": [
              "           key           categoria\n",
              "5404  aberlour            Aderezos\n",
              "8377    aceite  Aceites y Vinagres\n",
              "2883     aceto  Aceites y Vinagres\n",
              "9131   aderezo            Aderezos\n",
              "9657     adobo            Aderezos"
            ]
          },
          "metadata": {
            "tags": []
          },
          "execution_count": 21
        }
      ]
    },
    {
      "cell_type": "code",
      "metadata": {
        "id": "B_tqM4lzHnBn"
      },
      "source": [
        "training_df= pd.merge(training_df,first_words,how = 'left', on =['key'] )"
      ],
      "execution_count": 22,
      "outputs": []
    },
    {
      "cell_type": "markdown",
      "metadata": {
        "id": "JE4d6Ur3kwor"
      },
      "source": [
        "# Entrenamiento de un clasificador\n",
        "\n",
        "\n"
      ]
    },
    {
      "cell_type": "markdown",
      "metadata": {
        "id": "sOfyCD_6mS5i"
      },
      "source": [
        "Para el entrenamiento se utiliza el modelo MLP(Multilayer Perceptron), el cual corresponde a la \n",
        "categoría de redes neuronales conocidas como FeedForward Neural Networks. Este tipo de redes Se utilizan en el contexto del aprendizaje supervisado."
      ]
    },
    {
      "cell_type": "code",
      "metadata": {
        "colab": {
          "base_uri": "https://localhost:8080/",
          "height": 77
        },
        "id": "NHisTha6b8Wb",
        "outputId": "adadde8a-9244-488c-e6a9-35a0fb598414"
      },
      "source": [
        "training_df.head(1)"
      ],
      "execution_count": 23,
      "outputs": [
        {
          "output_type": "execute_result",
          "data": {
            "text/html": [
              "<div>\n",
              "<style scoped>\n",
              "    .dataframe tbody tr th:only-of-type {\n",
              "        vertical-align: middle;\n",
              "    }\n",
              "\n",
              "    .dataframe tbody tr th {\n",
              "        vertical-align: top;\n",
              "    }\n",
              "\n",
              "    .dataframe thead th {\n",
              "        text-align: right;\n",
              "    }\n",
              "</style>\n",
              "<table border=\"1\" class=\"dataframe\">\n",
              "  <thead>\n",
              "    <tr style=\"text-align: right;\">\n",
              "      <th></th>\n",
              "      <th>name</th>\n",
              "      <th>description</th>\n",
              "      <th>maker</th>\n",
              "      <th>trademark</th>\n",
              "      <th>words</th>\n",
              "      <th>first_words</th>\n",
              "      <th>key</th>\n",
              "      <th>categoria</th>\n",
              "    </tr>\n",
              "  </thead>\n",
              "  <tbody>\n",
              "    <tr>\n",
              "      <th>0</th>\n",
              "      <td>Cerveza Otro Mundo 500 Ml</td>\n",
              "      <td>Cerveza Otro Mundo 500 Ml</td>\n",
              "      <td>NaN</td>\n",
              "      <td>Otro Mundo</td>\n",
              "      <td>cerveza otro mundo 500 ml</td>\n",
              "      <td>cerveza</td>\n",
              "      <td>cerveza</td>\n",
              "      <td>Cervezas</td>\n",
              "    </tr>\n",
              "  </tbody>\n",
              "</table>\n",
              "</div>"
            ],
            "text/plain": [
              "                        name                description  ...      key categoria\n",
              "0  Cerveza Otro Mundo 500 Ml  Cerveza Otro Mundo 500 Ml  ...  cerveza  Cervezas\n",
              "\n",
              "[1 rows x 8 columns]"
            ]
          },
          "metadata": {
            "tags": []
          },
          "execution_count": 23
        }
      ]
    },
    {
      "cell_type": "code",
      "metadata": {
        "id": "mSk9WiF_mfOx",
        "colab": {
          "base_uri": "https://localhost:8080/",
          "height": 455
        },
        "outputId": "d830bd32-ce95-4063-996e-c094c040045d"
      },
      "source": [
        "X, y = training_df['name'],training_df['categoria']\n",
        "y = pd.get_dummies(y)\n",
        "y"
      ],
      "execution_count": 24,
      "outputs": [
        {
          "output_type": "execute_result",
          "data": {
            "text/html": [
              "<div>\n",
              "<style scoped>\n",
              "    .dataframe tbody tr th:only-of-type {\n",
              "        vertical-align: middle;\n",
              "    }\n",
              "\n",
              "    .dataframe tbody tr th {\n",
              "        vertical-align: top;\n",
              "    }\n",
              "\n",
              "    .dataframe thead th {\n",
              "        text-align: right;\n",
              "    }\n",
              "</style>\n",
              "<table border=\"1\" class=\"dataframe\">\n",
              "  <thead>\n",
              "    <tr style=\"text-align: right;\">\n",
              "      <th></th>\n",
              "      <th>Aceites y Vinagres</th>\n",
              "      <th>Aderezos</th>\n",
              "      <th>Aguas</th>\n",
              "      <th>Cervezas</th>\n",
              "      <th>Champagnes</th>\n",
              "      <th>Fiambres</th>\n",
              "      <th>Golosinas y Chocolates</th>\n",
              "      <th>Jugos</th>\n",
              "      <th>Leches</th>\n",
              "      <th>Panificados</th>\n",
              "      <th>Quesos</th>\n",
              "      <th>Salchichas</th>\n",
              "      <th>Vinos</th>\n",
              "      <th>Whiskies</th>\n",
              "      <th>Yogures</th>\n",
              "    </tr>\n",
              "  </thead>\n",
              "  <tbody>\n",
              "    <tr>\n",
              "      <th>0</th>\n",
              "      <td>0</td>\n",
              "      <td>0</td>\n",
              "      <td>0</td>\n",
              "      <td>1</td>\n",
              "      <td>0</td>\n",
              "      <td>0</td>\n",
              "      <td>0</td>\n",
              "      <td>0</td>\n",
              "      <td>0</td>\n",
              "      <td>0</td>\n",
              "      <td>0</td>\n",
              "      <td>0</td>\n",
              "      <td>0</td>\n",
              "      <td>0</td>\n",
              "      <td>0</td>\n",
              "    </tr>\n",
              "    <tr>\n",
              "      <th>1</th>\n",
              "      <td>0</td>\n",
              "      <td>0</td>\n",
              "      <td>0</td>\n",
              "      <td>0</td>\n",
              "      <td>0</td>\n",
              "      <td>0</td>\n",
              "      <td>0</td>\n",
              "      <td>0</td>\n",
              "      <td>0</td>\n",
              "      <td>0</td>\n",
              "      <td>0</td>\n",
              "      <td>0</td>\n",
              "      <td>1</td>\n",
              "      <td>0</td>\n",
              "      <td>0</td>\n",
              "    </tr>\n",
              "    <tr>\n",
              "      <th>2</th>\n",
              "      <td>1</td>\n",
              "      <td>0</td>\n",
              "      <td>0</td>\n",
              "      <td>0</td>\n",
              "      <td>0</td>\n",
              "      <td>0</td>\n",
              "      <td>0</td>\n",
              "      <td>0</td>\n",
              "      <td>0</td>\n",
              "      <td>0</td>\n",
              "      <td>0</td>\n",
              "      <td>0</td>\n",
              "      <td>0</td>\n",
              "      <td>0</td>\n",
              "      <td>0</td>\n",
              "    </tr>\n",
              "    <tr>\n",
              "      <th>3</th>\n",
              "      <td>0</td>\n",
              "      <td>0</td>\n",
              "      <td>0</td>\n",
              "      <td>0</td>\n",
              "      <td>0</td>\n",
              "      <td>0</td>\n",
              "      <td>0</td>\n",
              "      <td>0</td>\n",
              "      <td>0</td>\n",
              "      <td>1</td>\n",
              "      <td>0</td>\n",
              "      <td>0</td>\n",
              "      <td>0</td>\n",
              "      <td>0</td>\n",
              "      <td>0</td>\n",
              "    </tr>\n",
              "    <tr>\n",
              "      <th>4</th>\n",
              "      <td>1</td>\n",
              "      <td>0</td>\n",
              "      <td>0</td>\n",
              "      <td>0</td>\n",
              "      <td>0</td>\n",
              "      <td>0</td>\n",
              "      <td>0</td>\n",
              "      <td>0</td>\n",
              "      <td>0</td>\n",
              "      <td>0</td>\n",
              "      <td>0</td>\n",
              "      <td>0</td>\n",
              "      <td>0</td>\n",
              "      <td>0</td>\n",
              "      <td>0</td>\n",
              "    </tr>\n",
              "    <tr>\n",
              "      <th>...</th>\n",
              "      <td>...</td>\n",
              "      <td>...</td>\n",
              "      <td>...</td>\n",
              "      <td>...</td>\n",
              "      <td>...</td>\n",
              "      <td>...</td>\n",
              "      <td>...</td>\n",
              "      <td>...</td>\n",
              "      <td>...</td>\n",
              "      <td>...</td>\n",
              "      <td>...</td>\n",
              "      <td>...</td>\n",
              "      <td>...</td>\n",
              "      <td>...</td>\n",
              "      <td>...</td>\n",
              "    </tr>\n",
              "    <tr>\n",
              "      <th>9995</th>\n",
              "      <td>0</td>\n",
              "      <td>0</td>\n",
              "      <td>0</td>\n",
              "      <td>1</td>\n",
              "      <td>0</td>\n",
              "      <td>0</td>\n",
              "      <td>0</td>\n",
              "      <td>0</td>\n",
              "      <td>0</td>\n",
              "      <td>0</td>\n",
              "      <td>0</td>\n",
              "      <td>0</td>\n",
              "      <td>0</td>\n",
              "      <td>0</td>\n",
              "      <td>0</td>\n",
              "    </tr>\n",
              "    <tr>\n",
              "      <th>9996</th>\n",
              "      <td>0</td>\n",
              "      <td>0</td>\n",
              "      <td>0</td>\n",
              "      <td>0</td>\n",
              "      <td>0</td>\n",
              "      <td>1</td>\n",
              "      <td>0</td>\n",
              "      <td>0</td>\n",
              "      <td>0</td>\n",
              "      <td>0</td>\n",
              "      <td>0</td>\n",
              "      <td>0</td>\n",
              "      <td>0</td>\n",
              "      <td>0</td>\n",
              "      <td>0</td>\n",
              "    </tr>\n",
              "    <tr>\n",
              "      <th>9997</th>\n",
              "      <td>0</td>\n",
              "      <td>0</td>\n",
              "      <td>0</td>\n",
              "      <td>1</td>\n",
              "      <td>0</td>\n",
              "      <td>0</td>\n",
              "      <td>0</td>\n",
              "      <td>0</td>\n",
              "      <td>0</td>\n",
              "      <td>0</td>\n",
              "      <td>0</td>\n",
              "      <td>0</td>\n",
              "      <td>0</td>\n",
              "      <td>0</td>\n",
              "      <td>0</td>\n",
              "    </tr>\n",
              "    <tr>\n",
              "      <th>9998</th>\n",
              "      <td>0</td>\n",
              "      <td>0</td>\n",
              "      <td>0</td>\n",
              "      <td>0</td>\n",
              "      <td>0</td>\n",
              "      <td>0</td>\n",
              "      <td>1</td>\n",
              "      <td>0</td>\n",
              "      <td>0</td>\n",
              "      <td>0</td>\n",
              "      <td>0</td>\n",
              "      <td>0</td>\n",
              "      <td>0</td>\n",
              "      <td>0</td>\n",
              "      <td>0</td>\n",
              "    </tr>\n",
              "    <tr>\n",
              "      <th>9999</th>\n",
              "      <td>0</td>\n",
              "      <td>0</td>\n",
              "      <td>0</td>\n",
              "      <td>0</td>\n",
              "      <td>0</td>\n",
              "      <td>0</td>\n",
              "      <td>0</td>\n",
              "      <td>0</td>\n",
              "      <td>0</td>\n",
              "      <td>0</td>\n",
              "      <td>0</td>\n",
              "      <td>0</td>\n",
              "      <td>1</td>\n",
              "      <td>0</td>\n",
              "      <td>0</td>\n",
              "    </tr>\n",
              "  </tbody>\n",
              "</table>\n",
              "<p>10000 rows × 15 columns</p>\n",
              "</div>"
            ],
            "text/plain": [
              "      Aceites y Vinagres  Aderezos  Aguas  ...  Vinos  Whiskies  Yogures\n",
              "0                      0         0      0  ...      0         0        0\n",
              "1                      0         0      0  ...      1         0        0\n",
              "2                      1         0      0  ...      0         0        0\n",
              "3                      0         0      0  ...      0         0        0\n",
              "4                      1         0      0  ...      0         0        0\n",
              "...                  ...       ...    ...  ...    ...       ...      ...\n",
              "9995                   0         0      0  ...      0         0        0\n",
              "9996                   0         0      0  ...      0         0        0\n",
              "9997                   0         0      0  ...      0         0        0\n",
              "9998                   0         0      0  ...      0         0        0\n",
              "9999                   0         0      0  ...      1         0        0\n",
              "\n",
              "[10000 rows x 15 columns]"
            ]
          },
          "metadata": {
            "tags": []
          },
          "execution_count": 24
        }
      ]
    },
    {
      "cell_type": "code",
      "metadata": {
        "colab": {
          "base_uri": "https://localhost:8080/"
        },
        "id": "DiLiQ7_NdGqu",
        "outputId": "f8939c06-0f3f-4332-db05-6e84bac90fd6"
      },
      "source": [
        "tf_idf = TfidfVectorizer()\n",
        "X_tf_idf = tf_idf.fit_transform(X)\n",
        "print(X_tf_idf.shape)\n",
        "X_tf_idf.toarray()[0]"
      ],
      "execution_count": 25,
      "outputs": [
        {
          "output_type": "stream",
          "text": [
            "(10000, 3250)\n"
          ],
          "name": "stdout"
        },
        {
          "output_type": "execute_result",
          "data": {
            "text/plain": [
              "array([0., 0., 0., ..., 0., 0., 0.])"
            ]
          },
          "metadata": {
            "tags": []
          },
          "execution_count": 25
        }
      ]
    },
    {
      "cell_type": "code",
      "metadata": {
        "id": "EfdJfmp3oi3N"
      },
      "source": [
        "input = (X_tf_idf.shape)[1]\n",
        "output = 15"
      ],
      "execution_count": 26,
      "outputs": []
    },
    {
      "cell_type": "code",
      "metadata": {
        "id": "YGDEnuECof07"
      },
      "source": [
        "X_train, X_test, y_train, y_test = train_test_split(X_tf_idf.toarray(), y.values, test_size=0.2, random_state=33)"
      ],
      "execution_count": 27,
      "outputs": []
    },
    {
      "cell_type": "markdown",
      "metadata": {
        "id": "uwSTJfNdouSK"
      },
      "source": [
        "#Modelo Base\n",
        "\n",
        "Se utiliza como modelo base una red con dos capas, con funciones de activación sigmoid y softmax en la capa de salida. Se considera la perdida categorial_croosentrpy debido al tipo de datos categoricos de la respuesta, para la optimización se considera el optimizador 'adam' y como métrica de comparación el \"Accuracy\".\n"
      ]
    },
    {
      "cell_type": "code",
      "metadata": {
        "id": "ucIRDkZDokOY",
        "colab": {
          "base_uri": "https://localhost:8080/"
        },
        "outputId": "28d99cf7-4882-4eeb-88e7-683a050a8011"
      },
      "source": [
        "#Se inicializa el modelo*\n",
        "model = Sequential()\n",
        "model.add(Dense(512, input_dim = input))\n",
        "model.add(Activation('sigmoid'))\n",
        "model.add(Dropout(0.5))\n",
        "model.add(Dense(15))\n",
        "model.add(Activation('softmax'))\n",
        "model.summary()\n",
        "model.compile(loss='categorical_crossentropy', optimizer=\"adam\", metrics=[\"accuracy\"])"
      ],
      "execution_count": 28,
      "outputs": [
        {
          "output_type": "stream",
          "text": [
            "Model: \"sequential\"\n",
            "_________________________________________________________________\n",
            "Layer (type)                 Output Shape              Param #   \n",
            "=================================================================\n",
            "dense (Dense)                (None, 512)               1664512   \n",
            "_________________________________________________________________\n",
            "activation_10 (Activation)   (None, 512)               0         \n",
            "_________________________________________________________________\n",
            "dropout (Dropout)            (None, 512)               0         \n",
            "_________________________________________________________________\n",
            "dense_1 (Dense)              (None, 15)                7695      \n",
            "_________________________________________________________________\n",
            "activation_11 (Activation)   (None, 15)                0         \n",
            "=================================================================\n",
            "Total params: 1,672,207\n",
            "Trainable params: 1,672,207\n",
            "Non-trainable params: 0\n",
            "_________________________________________________________________\n"
          ],
          "name": "stdout"
        }
      ]
    },
    {
      "cell_type": "code",
      "metadata": {
        "id": "moLuaaoGo5L4",
        "colab": {
          "base_uri": "https://localhost:8080/"
        },
        "outputId": "2d21613f-06c2-440b-80cf-8845fab951d4"
      },
      "source": [
        "early_stopping = EarlyStopping(monitor='loss', patience=10, verbose=1, mode='min', baseline=None, restore_best_weights=False)\n",
        "callbacks = [early_stopping]\n",
        "history = model.fit(X_train, y_train, epochs= 20, batch_size = 700, callbacks=callbacks)"
      ],
      "execution_count": 29,
      "outputs": [
        {
          "output_type": "stream",
          "text": [
            "Epoch 1/20\n",
            "12/12 [==============================] - 0s 8ms/step - loss: 2.7454 - accuracy: 0.1546\n",
            "Epoch 2/20\n",
            "12/12 [==============================] - 0s 7ms/step - loss: 2.5710 - accuracy: 0.2024\n",
            "Epoch 3/20\n",
            "12/12 [==============================] - 0s 6ms/step - loss: 2.4765 - accuracy: 0.2260\n",
            "Epoch 4/20\n",
            "12/12 [==============================] - 0s 7ms/step - loss: 2.3969 - accuracy: 0.2444\n",
            "Epoch 5/20\n",
            "12/12 [==============================] - 0s 7ms/step - loss: 2.3032 - accuracy: 0.2804\n",
            "Epoch 6/20\n",
            "12/12 [==============================] - 0s 7ms/step - loss: 2.2244 - accuracy: 0.2986\n",
            "Epoch 7/20\n",
            "12/12 [==============================] - 0s 6ms/step - loss: 2.1490 - accuracy: 0.3314\n",
            "Epoch 8/20\n",
            "12/12 [==============================] - 0s 7ms/step - loss: 2.0723 - accuracy: 0.3528\n",
            "Epoch 9/20\n",
            "12/12 [==============================] - 0s 7ms/step - loss: 1.9910 - accuracy: 0.3905\n",
            "Epoch 10/20\n",
            "12/12 [==============================] - 0s 7ms/step - loss: 1.9109 - accuracy: 0.4305\n",
            "Epoch 11/20\n",
            "12/12 [==============================] - 0s 7ms/step - loss: 1.8389 - accuracy: 0.4601\n",
            "Epoch 12/20\n",
            "12/12 [==============================] - 0s 7ms/step - loss: 1.7475 - accuracy: 0.4965\n",
            "Epoch 13/20\n",
            "12/12 [==============================] - 0s 7ms/step - loss: 1.6529 - accuracy: 0.5360\n",
            "Epoch 14/20\n",
            "12/12 [==============================] - 0s 7ms/step - loss: 1.5668 - accuracy: 0.5760\n",
            "Epoch 15/20\n",
            "12/12 [==============================] - 0s 7ms/step - loss: 1.4830 - accuracy: 0.6040\n",
            "Epoch 16/20\n",
            "12/12 [==============================] - 0s 7ms/step - loss: 1.4054 - accuracy: 0.6371\n",
            "Epoch 17/20\n",
            "12/12 [==============================] - 0s 7ms/step - loss: 1.3146 - accuracy: 0.6649\n",
            "Epoch 18/20\n",
            "12/12 [==============================] - 0s 7ms/step - loss: 1.2418 - accuracy: 0.6883\n",
            "Epoch 19/20\n",
            "12/12 [==============================] - 0s 7ms/step - loss: 1.1659 - accuracy: 0.7178\n",
            "Epoch 20/20\n",
            "12/12 [==============================] - 0s 7ms/step - loss: 1.0898 - accuracy: 0.7401\n"
          ],
          "name": "stdout"
        }
      ]
    },
    {
      "cell_type": "markdown",
      "metadata": {
        "id": "5LxDpBw2dq4k"
      },
      "source": [
        "Con el modelo base se evidencia que se pueden obtener muy buenos resultados en el conjunto de entrenamiento. Se hizo  uso de un early stopping para monitorear  la perdida de manera que, se detenga el algoritmo para evitar el sobreajuste.\n",
        "\n"
      ]
    },
    {
      "cell_type": "markdown",
      "metadata": {
        "id": "Uxu6Rvo9pPJ8"
      },
      "source": [
        "Para entonar los parámetros se realizan ajustes menores en las funciones de activacion, en el número de capas y en los valores de salida. Se utiliza además el optimizador denominado 'adam'.\n"
      ]
    },
    {
      "cell_type": "code",
      "metadata": {
        "id": "wFgyY_2Fo_Dn"
      },
      "source": [
        "def entrenarRed(nn1 = 512, nn2 = 100, n_layers= 3, dropout = 0.5, activacion_oculta = 'sigmoid'):\n",
        "    clf = Sequential(name='Mi_Red')\n",
        "    output = 15\n",
        "    first = True\n",
        "\n",
        "    for i in range(n_layers):\n",
        "        if first:\n",
        "            clf.add(Dense(nn1, activation=activacion_oculta, name='Capa_Entrada'))\n",
        "            first = False\n",
        "        else:\n",
        "            clf.add(Dense(nn2, activation=activacion_oculta, name = 'Capa_Oculta_{0}'.format(i)))\n",
        "    \n",
        "    clf.add(Dropout(dropout,name='Dropout_{0}'.format(dropout)))\n",
        "    clf.add(Dense(output, activation='softmax', name= 'Capa_Salida'))\n",
        "\n",
        "    clf.compile(loss='categorical_crossentropy', optimizer='adam', metrics=['accuracy'])\n",
        "    \n",
        "    return clf\n",
        "\n",
        "# Modelo que utiliza el GridSearch\n",
        "modelCV = KerasClassifier(build_fn=entrenarRed, epochs=50, batch_size=40, verbose=1,shuffle = True)"
      ],
      "execution_count": 30,
      "outputs": []
    },
    {
      "cell_type": "code",
      "metadata": {
        "id": "YCAY9tkLpWN6"
      },
      "source": [
        "def my_custom_loss_func(y_true, y_pred):\n",
        "    return accuracy_score(y_true.argmax(axis=-1), y_pred)\n",
        "\n",
        "class toArray():\n",
        "    def __init__(self):\n",
        "        return\n",
        "\n",
        "    def transform(self, X, **transform_params):\n",
        "        return X.toarray()\n",
        "\n",
        "    def fit(self, X, y=None, **fit_params):\n",
        "        return self"
      ],
      "execution_count": 31,
      "outputs": []
    },
    {
      "cell_type": "code",
      "metadata": {
        "id": "lVVSpC_Epk81"
      },
      "source": [
        "pipe = Pipeline([('transformacion',TfidfVectorizer()),\n",
        "                 ('matriz',toArray()),\n",
        "                  ('red_neuronal',modelCV)])\n",
        "\n",
        "param_grid = dict(transformacion=[TfidfVectorizer(),CountVectorizer()],\n",
        "                  red_neuronal__nn1 = [512, 10000, 100],\n",
        "                  red_neuronal__nn2 = [512, 10000, 100],\n",
        "                  red_neuronal__n_layers = [1,2],\n",
        "                  red_neuronal__dropout = [0.2,0.5],\n",
        "                  red_neuronal__activacion_oculta = ['softmax']\n",
        "                  )\n",
        "\n",
        "score = make_scorer(my_custom_loss_func, greater_is_better=True)\n",
        "grid = RandomizedSearchCV(pipe, param_grid, scoring=score, verbose=1, cv = 2, n_iter=2, random_state=60)"
      ],
      "execution_count": 32,
      "outputs": []
    },
    {
      "cell_type": "code",
      "metadata": {
        "id": "cIcephQQpmcw",
        "colab": {
          "base_uri": "https://localhost:8080/"
        },
        "outputId": "a9e5d97e-1392-4cbd-ed5e-1ad0644cc9c9"
      },
      "source": [
        "Xtext_train, Xtext_test, y_train, y_test = train_test_split(X.values, y.values, test_size=0.2, random_state=99)\n",
        "callbacks = [EarlyStopping(monitor='loss', patience=5, verbose=1, mode='min', baseline=None, restore_best_weights=False)]\n",
        "grid.fit(Xtext_train, y_train,red_neuronal__callbacks=callbacks)"
      ],
      "execution_count": 33,
      "outputs": [
        {
          "output_type": "stream",
          "text": [
            "Fitting 2 folds for each of 2 candidates, totalling 4 fits\n",
            "Epoch 1/50\n"
          ],
          "name": "stdout"
        },
        {
          "output_type": "stream",
          "text": [
            "[Parallel(n_jobs=1)]: Using backend SequentialBackend with 1 concurrent workers.\n"
          ],
          "name": "stderr"
        },
        {
          "output_type": "stream",
          "text": [
            "100/100 [==============================] - 0s 2ms/step - loss: 2.6643 - accuracy: 0.2212\n",
            "Epoch 2/50\n",
            "100/100 [==============================] - 0s 2ms/step - loss: 2.5863 - accuracy: 0.2323\n",
            "Epoch 3/50\n",
            "100/100 [==============================] - 0s 2ms/step - loss: 2.5128 - accuracy: 0.2323\n",
            "Epoch 4/50\n",
            "100/100 [==============================] - 0s 2ms/step - loss: 2.4358 - accuracy: 0.2323\n",
            "Epoch 5/50\n",
            "100/100 [==============================] - 0s 2ms/step - loss: 2.3478 - accuracy: 0.2350\n",
            "Epoch 6/50\n",
            "100/100 [==============================] - 0s 2ms/step - loss: 2.2371 - accuracy: 0.2707\n",
            "Epoch 7/50\n",
            "100/100 [==============================] - 0s 2ms/step - loss: 2.1183 - accuracy: 0.3855\n",
            "Epoch 8/50\n",
            "100/100 [==============================] - 0s 2ms/step - loss: 2.0077 - accuracy: 0.4820\n",
            "Epoch 9/50\n",
            "100/100 [==============================] - 0s 2ms/step - loss: 1.8966 - accuracy: 0.5487\n",
            "Epoch 10/50\n",
            "100/100 [==============================] - 0s 2ms/step - loss: 1.7877 - accuracy: 0.5918\n",
            "Epoch 11/50\n",
            "100/100 [==============================] - 0s 2ms/step - loss: 1.6938 - accuracy: 0.6317\n",
            "Epoch 12/50\n",
            "100/100 [==============================] - 0s 2ms/step - loss: 1.6131 - accuracy: 0.6463\n",
            "Epoch 13/50\n",
            "100/100 [==============================] - 0s 3ms/step - loss: 1.5466 - accuracy: 0.6620\n",
            "Epoch 14/50\n",
            "100/100 [==============================] - 0s 2ms/step - loss: 1.4777 - accuracy: 0.6775\n",
            "Epoch 15/50\n",
            "100/100 [==============================] - 0s 2ms/step - loss: 1.4165 - accuracy: 0.7090\n",
            "Epoch 16/50\n",
            "100/100 [==============================] - 0s 2ms/step - loss: 1.3702 - accuracy: 0.7113\n",
            "Epoch 17/50\n",
            "100/100 [==============================] - 0s 2ms/step - loss: 1.3138 - accuracy: 0.7290\n",
            "Epoch 18/50\n",
            "100/100 [==============================] - 0s 2ms/step - loss: 1.2585 - accuracy: 0.7480\n",
            "Epoch 19/50\n",
            "100/100 [==============================] - 0s 2ms/step - loss: 1.1979 - accuracy: 0.7690\n",
            "Epoch 20/50\n",
            "100/100 [==============================] - 0s 2ms/step - loss: 1.1642 - accuracy: 0.7742\n",
            "Epoch 21/50\n",
            "100/100 [==============================] - 0s 2ms/step - loss: 1.1022 - accuracy: 0.7832\n",
            "Epoch 22/50\n",
            "100/100 [==============================] - 0s 2ms/step - loss: 1.0776 - accuracy: 0.7930\n",
            "Epoch 23/50\n",
            "100/100 [==============================] - 0s 2ms/step - loss: 1.0225 - accuracy: 0.8060\n",
            "Epoch 24/50\n",
            "100/100 [==============================] - 0s 2ms/step - loss: 1.0023 - accuracy: 0.8117\n",
            "Epoch 25/50\n",
            "100/100 [==============================] - 0s 2ms/step - loss: 0.9684 - accuracy: 0.8185\n",
            "Epoch 26/50\n",
            "100/100 [==============================] - 0s 2ms/step - loss: 0.9387 - accuracy: 0.8217\n",
            "Epoch 27/50\n",
            "100/100 [==============================] - 0s 2ms/step - loss: 0.9096 - accuracy: 0.8313\n",
            "Epoch 28/50\n",
            "100/100 [==============================] - 0s 2ms/step - loss: 0.8633 - accuracy: 0.8395\n",
            "Epoch 29/50\n",
            "100/100 [==============================] - 0s 2ms/step - loss: 0.8453 - accuracy: 0.8470\n",
            "Epoch 30/50\n",
            "100/100 [==============================] - 0s 2ms/step - loss: 0.8267 - accuracy: 0.8482\n",
            "Epoch 31/50\n",
            "100/100 [==============================] - 0s 2ms/step - loss: 0.7994 - accuracy: 0.8587\n",
            "Epoch 32/50\n",
            "100/100 [==============================] - 0s 2ms/step - loss: 0.7733 - accuracy: 0.8583\n",
            "Epoch 33/50\n",
            "100/100 [==============================] - 0s 2ms/step - loss: 0.7420 - accuracy: 0.8652\n",
            "Epoch 34/50\n",
            "100/100 [==============================] - 0s 2ms/step - loss: 0.7201 - accuracy: 0.8770\n",
            "Epoch 35/50\n",
            "100/100 [==============================] - 0s 2ms/step - loss: 0.6955 - accuracy: 0.8852\n",
            "Epoch 36/50\n",
            "100/100 [==============================] - 0s 2ms/step - loss: 0.6803 - accuracy: 0.8840\n",
            "Epoch 37/50\n",
            "100/100 [==============================] - 0s 2ms/step - loss: 0.6815 - accuracy: 0.8815\n",
            "Epoch 38/50\n",
            "100/100 [==============================] - 0s 2ms/step - loss: 0.6487 - accuracy: 0.8873\n",
            "Epoch 39/50\n",
            "100/100 [==============================] - 0s 2ms/step - loss: 0.6380 - accuracy: 0.8857\n",
            "Epoch 40/50\n",
            "100/100 [==============================] - 0s 2ms/step - loss: 0.6095 - accuracy: 0.8963\n",
            "Epoch 41/50\n",
            "100/100 [==============================] - 0s 2ms/step - loss: 0.5937 - accuracy: 0.9013\n",
            "Epoch 42/50\n",
            "100/100 [==============================] - 0s 2ms/step - loss: 0.5736 - accuracy: 0.9030\n",
            "Epoch 43/50\n",
            "100/100 [==============================] - 0s 2ms/step - loss: 0.5609 - accuracy: 0.9003\n",
            "Epoch 44/50\n",
            "100/100 [==============================] - 0s 2ms/step - loss: 0.5315 - accuracy: 0.9128\n",
            "Epoch 45/50\n",
            "100/100 [==============================] - 0s 2ms/step - loss: 0.5423 - accuracy: 0.9085\n",
            "Epoch 46/50\n",
            "100/100 [==============================] - 0s 2ms/step - loss: 0.5135 - accuracy: 0.9178\n",
            "Epoch 47/50\n",
            "100/100 [==============================] - 0s 2ms/step - loss: 0.5075 - accuracy: 0.9175\n",
            "Epoch 48/50\n",
            "100/100 [==============================] - 0s 2ms/step - loss: 0.4836 - accuracy: 0.9190\n",
            "Epoch 49/50\n",
            "100/100 [==============================] - 0s 2ms/step - loss: 0.4774 - accuracy: 0.9233\n",
            "Epoch 50/50\n",
            "100/100 [==============================] - 0s 2ms/step - loss: 0.4632 - accuracy: 0.9258\n",
            "WARNING:tensorflow:From /usr/local/lib/python3.6/dist-packages/tensorflow/python/keras/wrappers/scikit_learn.py:241: Sequential.predict_classes (from tensorflow.python.keras.engine.sequential) is deprecated and will be removed after 2021-01-01.\n",
            "Instructions for updating:\n",
            "Please use instead:* `np.argmax(model.predict(x), axis=-1)`,   if your model does multi-class classification   (e.g. if it uses a `softmax` last-layer activation).* `(model.predict(x) > 0.5).astype(\"int32\")`,   if your model does binary classification   (e.g. if it uses a `sigmoid` last-layer activation).\n",
            "100/100 [==============================] - 0s 1ms/step\n",
            "Epoch 1/50\n",
            "100/100 [==============================] - 0s 2ms/step - loss: 2.6661 - accuracy: 0.2170\n",
            "Epoch 2/50\n",
            "100/100 [==============================] - 0s 2ms/step - loss: 2.5868 - accuracy: 0.2220\n",
            "Epoch 3/50\n",
            "100/100 [==============================] - 0s 2ms/step - loss: 2.5112 - accuracy: 0.2220\n",
            "Epoch 4/50\n",
            "100/100 [==============================] - 0s 2ms/step - loss: 2.4322 - accuracy: 0.2250\n",
            "Epoch 5/50\n",
            "100/100 [==============================] - 0s 2ms/step - loss: 2.3434 - accuracy: 0.2520\n",
            "Epoch 6/50\n",
            "100/100 [==============================] - 0s 2ms/step - loss: 2.2434 - accuracy: 0.3245\n",
            "Epoch 7/50\n",
            "100/100 [==============================] - 0s 2ms/step - loss: 2.1316 - accuracy: 0.3790\n",
            "Epoch 8/50\n",
            "100/100 [==============================] - 0s 2ms/step - loss: 2.0204 - accuracy: 0.4390\n",
            "Epoch 9/50\n",
            "100/100 [==============================] - 0s 3ms/step - loss: 1.9010 - accuracy: 0.5095\n",
            "Epoch 10/50\n",
            "100/100 [==============================] - 0s 2ms/step - loss: 1.8015 - accuracy: 0.5727\n",
            "Epoch 11/50\n",
            "100/100 [==============================] - 0s 2ms/step - loss: 1.7012 - accuracy: 0.6288\n",
            "Epoch 12/50\n",
            "100/100 [==============================] - 0s 2ms/step - loss: 1.6249 - accuracy: 0.6615\n",
            "Epoch 13/50\n",
            "100/100 [==============================] - 0s 2ms/step - loss: 1.5336 - accuracy: 0.6982\n",
            "Epoch 14/50\n",
            "100/100 [==============================] - 0s 2ms/step - loss: 1.4535 - accuracy: 0.7228\n",
            "Epoch 15/50\n",
            "100/100 [==============================] - 0s 2ms/step - loss: 1.3889 - accuracy: 0.7400\n",
            "Epoch 16/50\n",
            "100/100 [==============================] - 0s 3ms/step - loss: 1.3307 - accuracy: 0.7523\n",
            "Epoch 17/50\n",
            "100/100 [==============================] - 0s 3ms/step - loss: 1.2732 - accuracy: 0.7628\n",
            "Epoch 18/50\n",
            "100/100 [==============================] - 0s 2ms/step - loss: 1.2244 - accuracy: 0.7757\n",
            "Epoch 19/50\n",
            "100/100 [==============================] - 0s 2ms/step - loss: 1.1722 - accuracy: 0.7840\n",
            "Epoch 20/50\n",
            "100/100 [==============================] - 0s 2ms/step - loss: 1.1129 - accuracy: 0.7955\n",
            "Epoch 21/50\n",
            "100/100 [==============================] - 0s 2ms/step - loss: 1.0824 - accuracy: 0.7975\n",
            "Epoch 22/50\n",
            "100/100 [==============================] - 0s 2ms/step - loss: 1.0424 - accuracy: 0.8065\n",
            "Epoch 23/50\n",
            "100/100 [==============================] - 0s 2ms/step - loss: 0.9958 - accuracy: 0.8202\n",
            "Epoch 24/50\n",
            "100/100 [==============================] - 0s 2ms/step - loss: 0.9728 - accuracy: 0.8232\n",
            "Epoch 25/50\n",
            "100/100 [==============================] - 0s 2ms/step - loss: 0.9413 - accuracy: 0.8255\n",
            "Epoch 26/50\n",
            "100/100 [==============================] - 0s 2ms/step - loss: 0.9176 - accuracy: 0.8285\n",
            "Epoch 27/50\n",
            "100/100 [==============================] - 0s 2ms/step - loss: 0.8829 - accuracy: 0.8380\n",
            "Epoch 28/50\n",
            "100/100 [==============================] - 0s 2ms/step - loss: 0.8692 - accuracy: 0.8367\n",
            "Epoch 29/50\n",
            "100/100 [==============================] - 0s 2ms/step - loss: 0.8259 - accuracy: 0.8530\n",
            "Epoch 30/50\n",
            "100/100 [==============================] - 0s 2ms/step - loss: 0.8062 - accuracy: 0.8520\n",
            "Epoch 31/50\n",
            "100/100 [==============================] - 0s 2ms/step - loss: 0.7944 - accuracy: 0.8533\n",
            "Epoch 32/50\n",
            "100/100 [==============================] - 0s 2ms/step - loss: 0.7484 - accuracy: 0.8692\n",
            "Epoch 33/50\n",
            "100/100 [==============================] - 0s 2ms/step - loss: 0.7170 - accuracy: 0.8745\n",
            "Epoch 34/50\n",
            "100/100 [==============================] - 0s 2ms/step - loss: 0.7224 - accuracy: 0.8700\n",
            "Epoch 35/50\n",
            "100/100 [==============================] - 0s 2ms/step - loss: 0.6898 - accuracy: 0.8735\n",
            "Epoch 36/50\n",
            "100/100 [==============================] - 0s 2ms/step - loss: 0.6743 - accuracy: 0.8817\n",
            "Epoch 37/50\n",
            "100/100 [==============================] - 0s 2ms/step - loss: 0.6512 - accuracy: 0.8875\n",
            "Epoch 38/50\n",
            "100/100 [==============================] - 0s 2ms/step - loss: 0.6330 - accuracy: 0.8860\n",
            "Epoch 39/50\n",
            "100/100 [==============================] - 0s 2ms/step - loss: 0.6081 - accuracy: 0.8985\n",
            "Epoch 40/50\n",
            "100/100 [==============================] - 0s 2ms/step - loss: 0.6070 - accuracy: 0.8915\n",
            "Epoch 41/50\n",
            "100/100 [==============================] - 0s 2ms/step - loss: 0.5835 - accuracy: 0.9013\n",
            "Epoch 42/50\n",
            "100/100 [==============================] - 0s 3ms/step - loss: 0.5533 - accuracy: 0.9085\n",
            "Epoch 43/50\n",
            "100/100 [==============================] - 0s 3ms/step - loss: 0.5525 - accuracy: 0.9078\n",
            "Epoch 44/50\n",
            "100/100 [==============================] - 0s 2ms/step - loss: 0.5318 - accuracy: 0.9105\n",
            "Epoch 45/50\n",
            "100/100 [==============================] - 0s 2ms/step - loss: 0.5355 - accuracy: 0.9085\n",
            "Epoch 46/50\n",
            "100/100 [==============================] - 0s 3ms/step - loss: 0.5187 - accuracy: 0.9165\n",
            "Epoch 47/50\n",
            "100/100 [==============================] - 0s 3ms/step - loss: 0.5070 - accuracy: 0.9128\n",
            "Epoch 48/50\n",
            "100/100 [==============================] - 0s 2ms/step - loss: 0.4983 - accuracy: 0.9170\n",
            "Epoch 49/50\n",
            "100/100 [==============================] - 0s 3ms/step - loss: 0.4741 - accuracy: 0.9215\n",
            "Epoch 50/50\n",
            "100/100 [==============================] - 0s 3ms/step - loss: 0.4692 - accuracy: 0.9212\n",
            "100/100 [==============================] - 0s 2ms/step\n",
            "Epoch 1/50\n",
            "100/100 [==============================] - 0s 2ms/step - loss: 2.6742 - accuracy: 0.1972\n",
            "Epoch 2/50\n",
            "100/100 [==============================] - 0s 3ms/step - loss: 2.6089 - accuracy: 0.2323\n",
            "Epoch 3/50\n",
            "100/100 [==============================] - 0s 2ms/step - loss: 2.5551 - accuracy: 0.2323\n",
            "Epoch 4/50\n",
            "100/100 [==============================] - 0s 2ms/step - loss: 2.5075 - accuracy: 0.2323\n",
            "Epoch 5/50\n",
            "100/100 [==============================] - 0s 3ms/step - loss: 2.4621 - accuracy: 0.2323\n",
            "Epoch 6/50\n",
            "100/100 [==============================] - 0s 2ms/step - loss: 2.4146 - accuracy: 0.2323\n",
            "Epoch 7/50\n",
            "100/100 [==============================] - 0s 2ms/step - loss: 2.3620 - accuracy: 0.2323\n",
            "Epoch 8/50\n",
            "100/100 [==============================] - 0s 2ms/step - loss: 2.2987 - accuracy: 0.2323\n",
            "Epoch 9/50\n",
            "100/100 [==============================] - 0s 2ms/step - loss: 2.2251 - accuracy: 0.2325\n",
            "Epoch 10/50\n",
            "100/100 [==============================] - 0s 2ms/step - loss: 2.1367 - accuracy: 0.2465\n",
            "Epoch 11/50\n",
            "100/100 [==============================] - 0s 2ms/step - loss: 2.0342 - accuracy: 0.3235\n",
            "Epoch 12/50\n",
            "100/100 [==============================] - 0s 2ms/step - loss: 1.9196 - accuracy: 0.4523\n",
            "Epoch 13/50\n",
            "100/100 [==============================] - 0s 2ms/step - loss: 1.8044 - accuracy: 0.5540\n",
            "Epoch 14/50\n",
            "100/100 [==============================] - 0s 2ms/step - loss: 1.6908 - accuracy: 0.6417\n",
            "Epoch 15/50\n",
            "100/100 [==============================] - 0s 2ms/step - loss: 1.5866 - accuracy: 0.6827\n",
            "Epoch 16/50\n",
            "100/100 [==============================] - 0s 2ms/step - loss: 1.4870 - accuracy: 0.7147\n",
            "Epoch 17/50\n",
            "100/100 [==============================] - 0s 2ms/step - loss: 1.4028 - accuracy: 0.7400\n",
            "Epoch 18/50\n",
            "100/100 [==============================] - 0s 3ms/step - loss: 1.3343 - accuracy: 0.7487\n",
            "Epoch 19/50\n",
            "100/100 [==============================] - 0s 2ms/step - loss: 1.2611 - accuracy: 0.7582\n",
            "Epoch 20/50\n",
            "100/100 [==============================] - 0s 2ms/step - loss: 1.1969 - accuracy: 0.7678\n",
            "Epoch 21/50\n",
            "100/100 [==============================] - 0s 2ms/step - loss: 1.1310 - accuracy: 0.7843\n",
            "Epoch 22/50\n",
            "100/100 [==============================] - 0s 2ms/step - loss: 1.0849 - accuracy: 0.7935\n",
            "Epoch 23/50\n",
            "100/100 [==============================] - 0s 2ms/step - loss: 1.0376 - accuracy: 0.8158\n",
            "Epoch 24/50\n",
            "100/100 [==============================] - 0s 2ms/step - loss: 0.9855 - accuracy: 0.8290\n",
            "Epoch 25/50\n",
            "100/100 [==============================] - 0s 3ms/step - loss: 0.9464 - accuracy: 0.8345\n",
            "Epoch 26/50\n",
            "100/100 [==============================] - 0s 2ms/step - loss: 0.9128 - accuracy: 0.8540\n",
            "Epoch 27/50\n",
            "100/100 [==============================] - 0s 3ms/step - loss: 0.8717 - accuracy: 0.8635\n",
            "Epoch 28/50\n",
            "100/100 [==============================] - 0s 3ms/step - loss: 0.8359 - accuracy: 0.8692\n",
            "Epoch 29/50\n",
            "100/100 [==============================] - 0s 3ms/step - loss: 0.8021 - accuracy: 0.8700\n",
            "Epoch 30/50\n",
            "100/100 [==============================] - 0s 3ms/step - loss: 0.7741 - accuracy: 0.8725\n",
            "Epoch 31/50\n",
            "100/100 [==============================] - 0s 2ms/step - loss: 0.7566 - accuracy: 0.8737\n",
            "Epoch 32/50\n",
            "100/100 [==============================] - 0s 2ms/step - loss: 0.7199 - accuracy: 0.8832\n",
            "Epoch 33/50\n",
            "100/100 [==============================] - 0s 2ms/step - loss: 0.6837 - accuracy: 0.8923\n",
            "Epoch 34/50\n",
            "100/100 [==============================] - 0s 3ms/step - loss: 0.6782 - accuracy: 0.8870\n",
            "Epoch 35/50\n",
            "100/100 [==============================] - 0s 2ms/step - loss: 0.6512 - accuracy: 0.8967\n",
            "Epoch 36/50\n",
            "100/100 [==============================] - 0s 2ms/step - loss: 0.6152 - accuracy: 0.9078\n",
            "Epoch 37/50\n",
            "100/100 [==============================] - 0s 2ms/step - loss: 0.5917 - accuracy: 0.9068\n",
            "Epoch 38/50\n",
            "100/100 [==============================] - 0s 2ms/step - loss: 0.5765 - accuracy: 0.9135\n",
            "Epoch 39/50\n",
            "100/100 [==============================] - 0s 2ms/step - loss: 0.5610 - accuracy: 0.9240\n",
            "Epoch 40/50\n",
            "100/100 [==============================] - 0s 2ms/step - loss: 0.5377 - accuracy: 0.9172\n",
            "Epoch 41/50\n",
            "100/100 [==============================] - 0s 2ms/step - loss: 0.5260 - accuracy: 0.9200\n",
            "Epoch 42/50\n",
            "100/100 [==============================] - 0s 2ms/step - loss: 0.5090 - accuracy: 0.9275\n",
            "Epoch 43/50\n",
            "100/100 [==============================] - 0s 2ms/step - loss: 0.4861 - accuracy: 0.9262\n",
            "Epoch 44/50\n",
            "100/100 [==============================] - 0s 2ms/step - loss: 0.4654 - accuracy: 0.9298\n",
            "Epoch 45/50\n",
            "100/100 [==============================] - 0s 2ms/step - loss: 0.4729 - accuracy: 0.9260\n",
            "Epoch 46/50\n",
            "100/100 [==============================] - 0s 2ms/step - loss: 0.4459 - accuracy: 0.9333\n",
            "Epoch 47/50\n",
            "100/100 [==============================] - 0s 2ms/step - loss: 0.4342 - accuracy: 0.9373\n",
            "Epoch 48/50\n",
            "100/100 [==============================] - 0s 2ms/step - loss: 0.4251 - accuracy: 0.9337\n",
            "Epoch 49/50\n",
            "100/100 [==============================] - 0s 2ms/step - loss: 0.4115 - accuracy: 0.9375\n",
            "Epoch 50/50\n",
            "100/100 [==============================] - 0s 2ms/step - loss: 0.3960 - accuracy: 0.9410\n",
            "100/100 [==============================] - 0s 1ms/step\n",
            "Epoch 1/50\n",
            "100/100 [==============================] - 0s 2ms/step - loss: 2.6686 - accuracy: 0.2033\n",
            "Epoch 2/50\n",
            "100/100 [==============================] - 0s 2ms/step - loss: 2.6023 - accuracy: 0.2220\n",
            "Epoch 3/50\n",
            "100/100 [==============================] - 0s 2ms/step - loss: 2.5495 - accuracy: 0.2220\n",
            "Epoch 4/50\n",
            "100/100 [==============================] - 0s 2ms/step - loss: 2.5035 - accuracy: 0.2220\n",
            "Epoch 5/50\n",
            "100/100 [==============================] - 0s 2ms/step - loss: 2.4601 - accuracy: 0.2220\n",
            "Epoch 6/50\n",
            "100/100 [==============================] - 0s 2ms/step - loss: 2.4133 - accuracy: 0.2220\n",
            "Epoch 7/50\n",
            "100/100 [==============================] - 0s 2ms/step - loss: 2.3607 - accuracy: 0.2220\n",
            "Epoch 8/50\n",
            "100/100 [==============================] - 0s 2ms/step - loss: 2.2978 - accuracy: 0.2220\n",
            "Epoch 9/50\n",
            "100/100 [==============================] - 0s 2ms/step - loss: 2.2214 - accuracy: 0.2323\n",
            "Epoch 10/50\n",
            "100/100 [==============================] - 0s 2ms/step - loss: 2.1379 - accuracy: 0.2825\n",
            "Epoch 11/50\n",
            "100/100 [==============================] - 0s 2ms/step - loss: 2.0384 - accuracy: 0.3738\n",
            "Epoch 12/50\n",
            "100/100 [==============================] - 0s 2ms/step - loss: 1.9368 - accuracy: 0.4535\n",
            "Epoch 13/50\n",
            "100/100 [==============================] - 0s 2ms/step - loss: 1.8311 - accuracy: 0.5085\n",
            "Epoch 14/50\n",
            "100/100 [==============================] - 0s 2ms/step - loss: 1.7258 - accuracy: 0.5545\n",
            "Epoch 15/50\n",
            "100/100 [==============================] - 0s 2ms/step - loss: 1.6241 - accuracy: 0.6215\n",
            "Epoch 16/50\n",
            "100/100 [==============================] - 0s 2ms/step - loss: 1.5257 - accuracy: 0.6787\n",
            "Epoch 17/50\n",
            "100/100 [==============================] - 0s 2ms/step - loss: 1.4293 - accuracy: 0.7448\n",
            "Epoch 18/50\n",
            "100/100 [==============================] - 0s 2ms/step - loss: 1.3486 - accuracy: 0.7650\n",
            "Epoch 19/50\n",
            "100/100 [==============================] - 0s 2ms/step - loss: 1.2699 - accuracy: 0.7930\n",
            "Epoch 20/50\n",
            "100/100 [==============================] - 0s 2ms/step - loss: 1.2019 - accuracy: 0.8115\n",
            "Epoch 21/50\n",
            "100/100 [==============================] - 0s 2ms/step - loss: 1.1377 - accuracy: 0.8288\n",
            "Epoch 22/50\n",
            "100/100 [==============================] - 0s 2ms/step - loss: 1.0745 - accuracy: 0.8443\n",
            "Epoch 23/50\n",
            "100/100 [==============================] - 0s 2ms/step - loss: 1.0127 - accuracy: 0.8615\n",
            "Epoch 24/50\n",
            "100/100 [==============================] - 0s 3ms/step - loss: 0.9654 - accuracy: 0.8668\n",
            "Epoch 25/50\n",
            "100/100 [==============================] - 0s 2ms/step - loss: 0.9152 - accuracy: 0.8792\n",
            "Epoch 26/50\n",
            "100/100 [==============================] - 0s 2ms/step - loss: 0.8701 - accuracy: 0.8863\n",
            "Epoch 27/50\n",
            "100/100 [==============================] - 0s 2ms/step - loss: 0.8291 - accuracy: 0.8880\n",
            "Epoch 28/50\n",
            "100/100 [==============================] - 0s 2ms/step - loss: 0.7883 - accuracy: 0.8992\n",
            "Epoch 29/50\n",
            "100/100 [==============================] - 0s 2ms/step - loss: 0.7575 - accuracy: 0.8967\n",
            "Epoch 30/50\n",
            "100/100 [==============================] - 0s 2ms/step - loss: 0.7149 - accuracy: 0.9050\n",
            "Epoch 31/50\n",
            "100/100 [==============================] - 0s 2ms/step - loss: 0.7086 - accuracy: 0.9030\n",
            "Epoch 32/50\n",
            "100/100 [==============================] - 0s 2ms/step - loss: 0.6696 - accuracy: 0.9055\n",
            "Epoch 33/50\n",
            "100/100 [==============================] - 0s 2ms/step - loss: 0.6554 - accuracy: 0.9035\n",
            "Epoch 34/50\n",
            "100/100 [==============================] - 0s 2ms/step - loss: 0.6257 - accuracy: 0.9107\n",
            "Epoch 35/50\n",
            "100/100 [==============================] - 0s 2ms/step - loss: 0.5950 - accuracy: 0.9180\n",
            "Epoch 36/50\n",
            "100/100 [==============================] - 0s 2ms/step - loss: 0.5809 - accuracy: 0.9172\n",
            "Epoch 37/50\n",
            "100/100 [==============================] - 0s 2ms/step - loss: 0.5583 - accuracy: 0.9190\n",
            "Epoch 38/50\n",
            "100/100 [==============================] - 0s 2ms/step - loss: 0.5319 - accuracy: 0.9245\n",
            "Epoch 39/50\n",
            "100/100 [==============================] - 0s 2ms/step - loss: 0.5091 - accuracy: 0.9302\n",
            "Epoch 40/50\n",
            "100/100 [==============================] - 0s 2ms/step - loss: 0.5119 - accuracy: 0.9298\n",
            "Epoch 41/50\n",
            "100/100 [==============================] - 0s 2ms/step - loss: 0.4836 - accuracy: 0.9355\n",
            "Epoch 42/50\n",
            "100/100 [==============================] - 0s 2ms/step - loss: 0.4678 - accuracy: 0.9367\n",
            "Epoch 43/50\n",
            "100/100 [==============================] - 0s 2ms/step - loss: 0.4486 - accuracy: 0.9438\n",
            "Epoch 44/50\n",
            "100/100 [==============================] - 0s 2ms/step - loss: 0.4445 - accuracy: 0.9455\n",
            "Epoch 45/50\n",
            "100/100 [==============================] - 0s 2ms/step - loss: 0.4272 - accuracy: 0.9492\n",
            "Epoch 46/50\n",
            "100/100 [==============================] - 0s 2ms/step - loss: 0.4084 - accuracy: 0.9495\n",
            "Epoch 47/50\n",
            "100/100 [==============================] - 0s 2ms/step - loss: 0.3928 - accuracy: 0.9495\n",
            "Epoch 48/50\n",
            "100/100 [==============================] - 0s 2ms/step - loss: 0.3747 - accuracy: 0.9530\n",
            "Epoch 49/50\n",
            "100/100 [==============================] - 0s 2ms/step - loss: 0.3673 - accuracy: 0.9572\n",
            "Epoch 50/50\n",
            "100/100 [==============================] - 0s 2ms/step - loss: 0.3594 - accuracy: 0.9557\n",
            "100/100 [==============================] - 0s 1ms/step\n",
            "Epoch 1/50\n"
          ],
          "name": "stdout"
        },
        {
          "output_type": "stream",
          "text": [
            "[Parallel(n_jobs=1)]: Done   4 out of   4 | elapsed:   50.4s finished\n"
          ],
          "name": "stderr"
        },
        {
          "output_type": "stream",
          "text": [
            "200/200 [==============================] - 1s 3ms/step - loss: 2.6246 - accuracy: 0.2196\n",
            "Epoch 2/50\n",
            "200/200 [==============================] - 0s 2ms/step - loss: 2.4744 - accuracy: 0.2280\n",
            "Epoch 3/50\n",
            "200/200 [==============================] - 0s 2ms/step - loss: 2.3012 - accuracy: 0.2859\n",
            "Epoch 4/50\n",
            "200/200 [==============================] - 0s 2ms/step - loss: 2.0851 - accuracy: 0.4339\n",
            "Epoch 5/50\n",
            "200/200 [==============================] - 0s 2ms/step - loss: 1.8631 - accuracy: 0.5524\n",
            "Epoch 6/50\n",
            "200/200 [==============================] - 0s 2ms/step - loss: 1.6821 - accuracy: 0.6254\n",
            "Epoch 7/50\n",
            "200/200 [==============================] - 0s 2ms/step - loss: 1.5257 - accuracy: 0.6681\n",
            "Epoch 8/50\n",
            "200/200 [==============================] - 0s 2ms/step - loss: 1.3946 - accuracy: 0.6951\n",
            "Epoch 9/50\n",
            "200/200 [==============================] - 0s 2ms/step - loss: 1.2878 - accuracy: 0.7297\n",
            "Epoch 10/50\n",
            "200/200 [==============================] - 0s 2ms/step - loss: 1.1923 - accuracy: 0.7626\n",
            "Epoch 11/50\n",
            "200/200 [==============================] - 0s 2ms/step - loss: 1.1011 - accuracy: 0.7905\n",
            "Epoch 12/50\n",
            "200/200 [==============================] - 0s 2ms/step - loss: 1.0357 - accuracy: 0.8096\n",
            "Epoch 13/50\n",
            "200/200 [==============================] - 0s 2ms/step - loss: 0.9617 - accuracy: 0.8307\n",
            "Epoch 14/50\n",
            "200/200 [==============================] - 0s 2ms/step - loss: 0.8862 - accuracy: 0.8456\n",
            "Epoch 15/50\n",
            "200/200 [==============================] - 0s 2ms/step - loss: 0.8472 - accuracy: 0.8550\n",
            "Epoch 16/50\n",
            "200/200 [==============================] - 0s 2ms/step - loss: 0.7947 - accuracy: 0.8669\n",
            "Epoch 17/50\n",
            "200/200 [==============================] - 0s 2ms/step - loss: 0.7483 - accuracy: 0.8720\n",
            "Epoch 18/50\n",
            "200/200 [==============================] - 0s 2ms/step - loss: 0.7007 - accuracy: 0.8810\n",
            "Epoch 19/50\n",
            "200/200 [==============================] - 0s 2ms/step - loss: 0.6697 - accuracy: 0.8867\n",
            "Epoch 20/50\n",
            "200/200 [==============================] - 0s 2ms/step - loss: 0.6301 - accuracy: 0.8969\n",
            "Epoch 21/50\n",
            "200/200 [==============================] - 0s 2ms/step - loss: 0.5977 - accuracy: 0.8991\n",
            "Epoch 22/50\n",
            "200/200 [==============================] - 0s 2ms/step - loss: 0.5650 - accuracy: 0.9065\n",
            "Epoch 23/50\n",
            "200/200 [==============================] - 0s 2ms/step - loss: 0.5361 - accuracy: 0.9107\n",
            "Epoch 24/50\n",
            "200/200 [==============================] - 0s 2ms/step - loss: 0.5159 - accuracy: 0.9151\n",
            "Epoch 25/50\n",
            "200/200 [==============================] - 0s 2ms/step - loss: 0.4937 - accuracy: 0.9191\n",
            "Epoch 26/50\n",
            "200/200 [==============================] - 0s 2ms/step - loss: 0.4651 - accuracy: 0.9266\n",
            "Epoch 27/50\n",
            "200/200 [==============================] - 0s 2ms/step - loss: 0.4342 - accuracy: 0.9309\n",
            "Epoch 28/50\n",
            "200/200 [==============================] - 0s 2ms/step - loss: 0.4367 - accuracy: 0.9290\n",
            "Epoch 29/50\n",
            "200/200 [==============================] - 0s 2ms/step - loss: 0.4069 - accuracy: 0.9345\n",
            "Epoch 30/50\n",
            "200/200 [==============================] - 1s 3ms/step - loss: 0.3907 - accuracy: 0.9390\n",
            "Epoch 31/50\n",
            "200/200 [==============================] - 0s 2ms/step - loss: 0.3755 - accuracy: 0.9358\n",
            "Epoch 32/50\n",
            "200/200 [==============================] - 0s 2ms/step - loss: 0.3673 - accuracy: 0.9394\n",
            "Epoch 33/50\n",
            "200/200 [==============================] - 0s 2ms/step - loss: 0.3431 - accuracy: 0.9427\n",
            "Epoch 34/50\n",
            "200/200 [==============================] - 1s 3ms/step - loss: 0.3218 - accuracy: 0.9510\n",
            "Epoch 35/50\n",
            "200/200 [==============================] - 0s 2ms/step - loss: 0.3211 - accuracy: 0.9496\n",
            "Epoch 36/50\n",
            "200/200 [==============================] - 0s 2ms/step - loss: 0.2992 - accuracy: 0.9530\n",
            "Epoch 37/50\n",
            "200/200 [==============================] - 0s 2ms/step - loss: 0.3061 - accuracy: 0.9491\n",
            "Epoch 38/50\n",
            "200/200 [==============================] - 0s 2ms/step - loss: 0.2916 - accuracy: 0.9553\n",
            "Epoch 39/50\n",
            "200/200 [==============================] - 1s 3ms/step - loss: 0.2751 - accuracy: 0.9546\n",
            "Epoch 40/50\n",
            "200/200 [==============================] - 1s 3ms/step - loss: 0.2709 - accuracy: 0.9551\n",
            "Epoch 41/50\n",
            "200/200 [==============================] - 0s 2ms/step - loss: 0.2567 - accuracy: 0.9597\n",
            "Epoch 42/50\n",
            "200/200 [==============================] - 0s 2ms/step - loss: 0.2508 - accuracy: 0.9605\n",
            "Epoch 43/50\n",
            "200/200 [==============================] - 0s 2ms/step - loss: 0.2429 - accuracy: 0.9631\n",
            "Epoch 44/50\n",
            "200/200 [==============================] - 1s 3ms/step - loss: 0.2263 - accuracy: 0.9650\n",
            "Epoch 45/50\n",
            "200/200 [==============================] - 0s 2ms/step - loss: 0.2252 - accuracy: 0.9634\n",
            "Epoch 46/50\n",
            "200/200 [==============================] - 0s 2ms/step - loss: 0.2216 - accuracy: 0.9644\n",
            "Epoch 47/50\n",
            "200/200 [==============================] - 1s 3ms/step - loss: 0.2115 - accuracy: 0.9664\n",
            "Epoch 48/50\n",
            "200/200 [==============================] - 1s 3ms/step - loss: 0.2085 - accuracy: 0.9680\n",
            "Epoch 49/50\n",
            "200/200 [==============================] - 0s 2ms/step - loss: 0.2069 - accuracy: 0.9654\n",
            "Epoch 50/50\n",
            "200/200 [==============================] - 0s 2ms/step - loss: 0.1983 - accuracy: 0.9647\n"
          ],
          "name": "stdout"
        },
        {
          "output_type": "execute_result",
          "data": {
            "text/plain": [
              "RandomizedSearchCV(cv=2, error_score=nan,\n",
              "                   estimator=Pipeline(memory=None,\n",
              "                                      steps=[('transformacion',\n",
              "                                              TfidfVectorizer(analyzer='word',\n",
              "                                                              binary=False,\n",
              "                                                              decode_error='strict',\n",
              "                                                              dtype=<class 'numpy.float64'>,\n",
              "                                                              encoding='utf-8',\n",
              "                                                              input='content',\n",
              "                                                              lowercase=True,\n",
              "                                                              max_df=1.0,\n",
              "                                                              max_features=None,\n",
              "                                                              min_df=1,\n",
              "                                                              ngram_range=(1,\n",
              "                                                                           1),\n",
              "                                                              norm='l2',\n",
              "                                                              preprocessor=None,\n",
              "                                                              smooth_idf=True,\n",
              "                                                              stop_words...\n",
              "                                                                           encoding='utf-8',\n",
              "                                                                           input='content',\n",
              "                                                                           lowercase=True,\n",
              "                                                                           max_df=1.0,\n",
              "                                                                           max_features=None,\n",
              "                                                                           min_df=1,\n",
              "                                                                           ngram_range=(1,\n",
              "                                                                                        1),\n",
              "                                                                           preprocessor=None,\n",
              "                                                                           stop_words=None,\n",
              "                                                                           strip_accents=None,\n",
              "                                                                           token_pattern='(?u)\\\\b\\\\w\\\\w+\\\\b',\n",
              "                                                                           tokenizer=None,\n",
              "                                                                           vocabulary=None)]},\n",
              "                   pre_dispatch='2*n_jobs', random_state=60, refit=True,\n",
              "                   return_train_score=False,\n",
              "                   scoring=make_scorer(my_custom_loss_func), verbose=1)"
            ]
          },
          "metadata": {
            "tags": []
          },
          "execution_count": 33
        }
      ]
    },
    {
      "cell_type": "code",
      "metadata": {
        "id": "3ggMrkVppqeA",
        "colab": {
          "base_uri": "https://localhost:8080/"
        },
        "outputId": "d3950a38-0cbd-4b3e-fec8-57b35348bb70"
      },
      "source": [
        "best_model = grid.best_estimator_\n",
        "print(grid.best_score_)\n",
        "print(grid.best_estimator_)"
      ],
      "execution_count": 34,
      "outputs": [
        {
          "output_type": "stream",
          "text": [
            "0.952875\n",
            "Pipeline(memory=None,\n",
            "         steps=[('transformacion',\n",
            "                 CountVectorizer(analyzer='word', binary=False,\n",
            "                                 decode_error='strict',\n",
            "                                 dtype=<class 'numpy.int64'>, encoding='utf-8',\n",
            "                                 input='content', lowercase=True, max_df=1.0,\n",
            "                                 max_features=None, min_df=1,\n",
            "                                 ngram_range=(1, 1), preprocessor=None,\n",
            "                                 stop_words=None, strip_accents=None,\n",
            "                                 token_pattern='(?u)\\\\b\\\\w\\\\w+\\\\b',\n",
            "                                 tokenizer=None, vocabulary=None)),\n",
            "                ('matriz', <__main__.toArray object at 0x7f8fe9085400>),\n",
            "                ('red_neuronal',\n",
            "                 <tensorflow.python.keras.wrappers.scikit_learn.KerasClassifier object at 0x7f8fe9085668>)],\n",
            "         verbose=False)\n"
          ],
          "name": "stdout"
        }
      ]
    },
    {
      "cell_type": "code",
      "metadata": {
        "id": "nGUJQSi-ps3Y",
        "colab": {
          "base_uri": "https://localhost:8080/"
        },
        "outputId": "7bdd2d34-8ab9-43d2-eed8-d3f256054674"
      },
      "source": [
        "print(model.predict(X_test))\n",
        "y_pred = model.predict(X_test)\n",
        "y_pred = y_pred.argmax(axis=-1)\n",
        "y_pred"
      ],
      "execution_count": 35,
      "outputs": [
        {
          "output_type": "stream",
          "text": [
            "[[0.04160864 0.06553926 0.02693517 ... 0.09124149 0.01593207 0.0247382 ]\n",
            " [0.03137452 0.03379527 0.65668905 ... 0.04159791 0.00871917 0.01411475]\n",
            " [0.4071023  0.08211753 0.02254917 ... 0.05369487 0.01464201 0.02652466]\n",
            " ...\n",
            " [0.02883468 0.04877359 0.02534046 ... 0.05442809 0.01222409 0.02471521]\n",
            " [0.02743699 0.04300128 0.01751009 ... 0.04261963 0.01110187 0.03169749]\n",
            " [0.04341605 0.07895932 0.02789312 ... 0.0730767  0.01631162 0.03585476]]\n"
          ],
          "name": "stdout"
        },
        {
          "output_type": "execute_result",
          "data": {
            "text/plain": [
              "array([4, 2, 0, ..., 7, 8, 9])"
            ]
          },
          "metadata": {
            "tags": []
          },
          "execution_count": 35
        }
      ]
    },
    {
      "cell_type": "code",
      "metadata": {
        "id": "rCYIom29pwfV",
        "colab": {
          "base_uri": "https://localhost:8080/"
        },
        "outputId": "a2a5d078-e23c-4c76-cb19-927bf33250da"
      },
      "source": [
        "print(best_model.predict(Xtext_test))\n",
        "y_pred_text = best_model.predict(Xtext_test)\n",
        "y_pred_text"
      ],
      "execution_count": 36,
      "outputs": [
        {
          "output_type": "stream",
          "text": [
            "50/50 [==============================] - 0s 2ms/step\n",
            "[ 9  0  7 ...  6 14  3]\n",
            "50/50 [==============================] - 0s 2ms/step\n"
          ],
          "name": "stdout"
        },
        {
          "output_type": "execute_result",
          "data": {
            "text/plain": [
              "array([ 9,  0,  7, ...,  6, 14,  3])"
            ]
          },
          "metadata": {
            "tags": []
          },
          "execution_count": 36
        }
      ]
    },
    {
      "cell_type": "markdown",
      "metadata": {
        "id": "_v7AQ0LRpz6f"
      },
      "source": [
        "#Validacion\n"
      ]
    },
    {
      "cell_type": "markdown",
      "metadata": {
        "id": "6_hRmE0tHYni"
      },
      "source": [
        "En esta secciones se muestran las métricas de evaluación del modelo. El resumen de la clasificación, una gráfica de la matriz de confusion, así como gráficas para evaluar el desempeño del modelo. En resumen, el modelo tiene alta precisión y sensibilidad que se podría disminuir si quiere ampliando la muestra, o aumentando el tamaño de pliegues en la validación cruzada. Sin embargo, en este contexto de clasificación de textos este ajuste es el deseado."
      ]
    },
    {
      "cell_type": "code",
      "metadata": {
        "colab": {
          "base_uri": "https://localhost:8080/"
        },
        "id": "g_QlLSJ_lYGc",
        "outputId": "3b9e694a-9841-45df-c6fb-b86885052721"
      },
      "source": [
        "Y_test = y_test.argmax(axis=-1)\n",
        "print('Reporte para el modelo entonado')\n",
        "print(classification_report(Y_test, y_pred_text, target_names=y.columns))"
      ],
      "execution_count": 37,
      "outputs": [
        {
          "output_type": "stream",
          "text": [
            "Reporte para el modelo entonado\n",
            "                        precision    recall  f1-score   support\n",
            "\n",
            "    Aceites y Vinagres       1.00      0.97      0.99        68\n",
            "              Aderezos       0.98      0.91      0.95       143\n",
            "                 Aguas       0.97      1.00      0.98       113\n",
            "              Cervezas       0.99      0.99      0.99       145\n",
            "            Champagnes       0.98      0.99      0.98        81\n",
            "              Fiambres       1.00      0.76      0.86        45\n",
            "Golosinas y Chocolates       0.88      0.99      0.93       135\n",
            "                 Jugos       0.98      0.97      0.97       208\n",
            "                Leches       0.98      0.98      0.98        82\n",
            "           Panificados       0.95      0.95      0.95       153\n",
            "                Quesos       0.98      1.00      0.99       204\n",
            "            Salchichas       1.00      0.88      0.94        26\n",
            "                 Vinos       0.99      1.00      1.00       448\n",
            "              Whiskies       0.95      1.00      0.97        18\n",
            "               Yogures       0.99      1.00      1.00       131\n",
            "\n",
            "              accuracy                           0.97      2000\n",
            "             macro avg       0.97      0.96      0.96      2000\n",
            "          weighted avg       0.98      0.97      0.97      2000\n",
            "\n"
          ],
          "name": "stdout"
        }
      ]
    },
    {
      "cell_type": "code",
      "metadata": {
        "id": "VVq2EC15qF1-",
        "colab": {
          "base_uri": "https://localhost:8080/",
          "height": 1000
        },
        "outputId": "0f84db91-f292-42ce-9b8a-9a8fbc3727c8"
      },
      "source": [
        "plt.figure(figsize=(25,25))\n",
        "mat = confusion_matrix(Y_test, y_pred_text)\n",
        "sns.heatmap(mat.T, square=True, annot=True, cmap='Blues',fmt='d', \n",
        "            xticklabels=y.columns,\n",
        "            yticklabels=y.columns)\n",
        "plt.xlabel('true label')\n",
        "plt.ylabel('predicted label')"
      ],
      "execution_count": 38,
      "outputs": [
        {
          "output_type": "execute_result",
          "data": {
            "text/plain": [
              "Text(201.5, 0.5, 'predicted label')"
            ]
          },
          "metadata": {
            "tags": []
          },
          "execution_count": 38
        },
        {
          "output_type": "display_data",
          "data": {
            "image/png": "[encoded data removed]",
            "text/plain": [
              "<Figure size 1800x1800 with 2 Axes>"
            ]
          },
          "metadata": {
            "tags": []
          }
        }
      ]
    },
    {
      "cell_type": "code",
      "metadata": {
        "id": "xu_Wd5QmqKIE",
        "colab": {
          "base_uri": "https://localhost:8080/",
          "height": 301
        },
        "outputId": "d1ef6e7e-069b-41f7-f8fd-53766cb3077e"
      },
      "source": [
        "plt.plot(history.history['loss'], label='Training loss')\n",
        "plt.title('Training and validation loss')\n",
        "plt.xlabel('Epochs')\n",
        "plt.ylabel('Loss')\n",
        "plt.legend()\n",
        "plt.show()"
      ],
      "execution_count": 39,
      "outputs": [
        {
          "output_type": "display_data",
          "data": {
            "image/png": "[encoded data removed]",
            "text/plain": [
              "<Figure size 432x288 with 1 Axes>"
            ]
          },
          "metadata": {
            "tags": []
          }
        }
      ]
    },
    {
      "cell_type": "code",
      "metadata": {
        "colab": {
          "base_uri": "https://localhost:8080/",
          "height": 301
        },
        "id": "lWGPyVZw8Ihz",
        "outputId": "e64a9184-1b2f-440f-bb5d-c17f20040936"
      },
      "source": [
        "plt.plot(history.history['accuracy'], label='Training accuracy')\n",
        "plt.title('Training and validation accuracy')\n",
        "plt.xlabel('Epochs')\n",
        "plt.ylabel('Accuracy')\n",
        "plt.legend()\n",
        "plt.show()"
      ],
      "execution_count": 40,
      "outputs": [
        {
          "output_type": "display_data",
          "data": {
            "image/png": "[encoded data removed]",
            "text/plain": [
              "<Figure size 432x288 with 1 Axes>"
            ]
          },
          "metadata": {
            "tags": []
          }
        }
      ]
    },
    {
      "cell_type": "markdown",
      "metadata": {
        "id": "8vYiq7qjb0_D"
      },
      "source": [
        "# Predición de categorías en el dataset de pruebas (test_challenge.csv)\n"
      ]
    },
    {
      "cell_type": "code",
      "metadata": {
        "id": "2zhwROBQq2Oz",
        "colab": {
          "base_uri": "https://localhost:8080/",
          "height": 195
        },
        "outputId": "e7ec8974-d975-4f08-d0dc-36d7c1a41f2a"
      },
      "source": [
        "testing_df = pd.read_csv('test_challenge.csv')\n",
        "testing_df['first_words']  = testing_df.name.str.split().str.get(0)\n",
        "testing_df.head(5)"
      ],
      "execution_count": 42,
      "outputs": [
        {
          "output_type": "execute_result",
          "data": {
            "text/html": [
              "<div>\n",
              "<style scoped>\n",
              "    .dataframe tbody tr th:only-of-type {\n",
              "        vertical-align: middle;\n",
              "    }\n",
              "\n",
              "    .dataframe tbody tr th {\n",
              "        vertical-align: top;\n",
              "    }\n",
              "\n",
              "    .dataframe thead th {\n",
              "        text-align: right;\n",
              "    }\n",
              "</style>\n",
              "<table border=\"1\" class=\"dataframe\">\n",
              "  <thead>\n",
              "    <tr style=\"text-align: right;\">\n",
              "      <th></th>\n",
              "      <th>name</th>\n",
              "      <th>description</th>\n",
              "      <th>maker</th>\n",
              "      <th>trademark</th>\n",
              "      <th>first_words</th>\n",
              "    </tr>\n",
              "  </thead>\n",
              "  <tbody>\n",
              "    <tr>\n",
              "      <th>0</th>\n",
              "      <td>Queso Sancor Gouda 280 Gr</td>\n",
              "      <td>Queso Sancor Gouda 280 Gr</td>\n",
              "      <td>NaN</td>\n",
              "      <td>Sancor</td>\n",
              "      <td>Queso</td>\n",
              "    </tr>\n",
              "    <tr>\n",
              "      <th>1</th>\n",
              "      <td>Jugo De Limón Delemon 1 L</td>\n",
              "      <td>Jugo De Limón Delemon 1 L</td>\n",
              "      <td>NaN</td>\n",
              "      <td>Delemon</td>\n",
              "      <td>Jugo</td>\n",
              "    </tr>\n",
              "    <tr>\n",
              "      <th>2</th>\n",
              "      <td>Turrón Georgalos De Yema</td>\n",
              "      <td>Turrón Georgalos De Yema</td>\n",
              "      <td>NaN</td>\n",
              "      <td>Georgalos</td>\n",
              "      <td>Turrón</td>\n",
              "    </tr>\n",
              "    <tr>\n",
              "      <th>3</th>\n",
              "      <td>Ketchup Danica X220Gr.Dp</td>\n",
              "      <td>Ketchup Danica X220Gr.Dp</td>\n",
              "      <td>NaN</td>\n",
              "      <td>La Gallega</td>\n",
              "      <td>Ketchup</td>\n",
              "    </tr>\n",
              "    <tr>\n",
              "      <th>4</th>\n",
              "      <td>Queso Reggianito La Paulina Trozado Paquete 1 Kg</td>\n",
              "      <td>Queso Reggianito La Paulina Trozado Paquete 1 Kg</td>\n",
              "      <td>NaN</td>\n",
              "      <td>La Paulina</td>\n",
              "      <td>Queso</td>\n",
              "    </tr>\n",
              "  </tbody>\n",
              "</table>\n",
              "</div>"
            ],
            "text/plain": [
              "                                               name  ... first_words\n",
              "0                         Queso Sancor Gouda 280 Gr  ...       Queso\n",
              "1                         Jugo De Limón Delemon 1 L  ...        Jugo\n",
              "2                          Turrón Georgalos De Yema  ...      Turrón\n",
              "3                          Ketchup Danica X220Gr.Dp  ...     Ketchup\n",
              "4  Queso Reggianito La Paulina Trozado Paquete 1 Kg  ...       Queso\n",
              "\n",
              "[5 rows x 5 columns]"
            ]
          },
          "metadata": {
            "tags": []
          },
          "execution_count": 42
        }
      ]
    },
    {
      "cell_type": "code",
      "metadata": {
        "colab": {
          "base_uri": "https://localhost:8080/",
          "height": 212
        },
        "id": "15I64fecGEiH",
        "outputId": "ab718221-4802-447a-deae-3dfa5e743c85"
      },
      "source": [
        "\n",
        "testing_df['words'] = testing_df['name'].apply(word_tokenize)\n",
        "testing_df['words'] = testing_df['words'].apply(preproccesing)\n",
        "testing_df['words'] = testing_df['words'].apply(lambda x: ' '.join(map(str, x)))\n",
        "testing_df.head()"
      ],
      "execution_count": 43,
      "outputs": [
        {
          "output_type": "execute_result",
          "data": {
            "text/html": [
              "<div>\n",
              "<style scoped>\n",
              "    .dataframe tbody tr th:only-of-type {\n",
              "        vertical-align: middle;\n",
              "    }\n",
              "\n",
              "    .dataframe tbody tr th {\n",
              "        vertical-align: top;\n",
              "    }\n",
              "\n",
              "    .dataframe thead th {\n",
              "        text-align: right;\n",
              "    }\n",
              "</style>\n",
              "<table border=\"1\" class=\"dataframe\">\n",
              "  <thead>\n",
              "    <tr style=\"text-align: right;\">\n",
              "      <th></th>\n",
              "      <th>name</th>\n",
              "      <th>description</th>\n",
              "      <th>maker</th>\n",
              "      <th>trademark</th>\n",
              "      <th>first_words</th>\n",
              "      <th>words</th>\n",
              "    </tr>\n",
              "  </thead>\n",
              "  <tbody>\n",
              "    <tr>\n",
              "      <th>0</th>\n",
              "      <td>Queso Sancor Gouda 280 Gr</td>\n",
              "      <td>Queso Sancor Gouda 280 Gr</td>\n",
              "      <td>NaN</td>\n",
              "      <td>Sancor</td>\n",
              "      <td>Queso</td>\n",
              "      <td>queso sancor gouda 280 gr</td>\n",
              "    </tr>\n",
              "    <tr>\n",
              "      <th>1</th>\n",
              "      <td>Jugo De Limón Delemon 1 L</td>\n",
              "      <td>Jugo De Limón Delemon 1 L</td>\n",
              "      <td>NaN</td>\n",
              "      <td>Delemon</td>\n",
              "      <td>Jugo</td>\n",
              "      <td>jugo de limón delemon 1 l</td>\n",
              "    </tr>\n",
              "    <tr>\n",
              "      <th>2</th>\n",
              "      <td>Turrón Georgalos De Yema</td>\n",
              "      <td>Turrón Georgalos De Yema</td>\n",
              "      <td>NaN</td>\n",
              "      <td>Georgalos</td>\n",
              "      <td>Turrón</td>\n",
              "      <td>turrón georgalos de yema</td>\n",
              "    </tr>\n",
              "    <tr>\n",
              "      <th>3</th>\n",
              "      <td>Ketchup Danica X220Gr.Dp</td>\n",
              "      <td>Ketchup Danica X220Gr.Dp</td>\n",
              "      <td>NaN</td>\n",
              "      <td>La Gallega</td>\n",
              "      <td>Ketchup</td>\n",
              "      <td>ketchup danica x220grdp</td>\n",
              "    </tr>\n",
              "    <tr>\n",
              "      <th>4</th>\n",
              "      <td>Queso Reggianito La Paulina Trozado Paquete 1 Kg</td>\n",
              "      <td>Queso Reggianito La Paulina Trozado Paquete 1 Kg</td>\n",
              "      <td>NaN</td>\n",
              "      <td>La Paulina</td>\n",
              "      <td>Queso</td>\n",
              "      <td>queso reggianito la paulina trozado paquete 1 kg</td>\n",
              "    </tr>\n",
              "  </tbody>\n",
              "</table>\n",
              "</div>"
            ],
            "text/plain": [
              "                                               name  ...                                             words\n",
              "0                         Queso Sancor Gouda 280 Gr  ...                         queso sancor gouda 280 gr\n",
              "1                         Jugo De Limón Delemon 1 L  ...                         jugo de limón delemon 1 l\n",
              "2                          Turrón Georgalos De Yema  ...                          turrón georgalos de yema\n",
              "3                          Ketchup Danica X220Gr.Dp  ...                           ketchup danica x220grdp\n",
              "4  Queso Reggianito La Paulina Trozado Paquete 1 Kg  ...  queso reggianito la paulina trozado paquete 1 kg\n",
              "\n",
              "[5 rows x 6 columns]"
            ]
          },
          "metadata": {
            "tags": []
          },
          "execution_count": 43
        }
      ]
    },
    {
      "cell_type": "code",
      "metadata": {
        "id": "KFNfU9Weq55m",
        "colab": {
          "base_uri": "https://localhost:8080/"
        },
        "outputId": "4a4f271d-213b-4fb8-e3f4-abd9d70d8fc1"
      },
      "source": [
        "x_testing = testing_df['words']\n",
        "testing_df['category_id'] = best_model.predict(x_testing)"
      ],
      "execution_count": 44,
      "outputs": [
        {
          "output_type": "stream",
          "text": [
            "23/23 [==============================] - 0s 2ms/step\n"
          ],
          "name": "stdout"
        }
      ]
    },
    {
      "cell_type": "code",
      "metadata": {
        "colab": {
          "base_uri": "https://localhost:8080/",
          "height": 469
        },
        "id": "9qGo9k7Bwsww",
        "outputId": "12d58cc4-d59b-4439-9d9a-a445d825efec"
      },
      "source": [
        "testing_df"
      ],
      "execution_count": 46,
      "outputs": [
        {
          "output_type": "execute_result",
          "data": {
            "text/html": [
              "<div>\n",
              "<style scoped>\n",
              "    .dataframe tbody tr th:only-of-type {\n",
              "        vertical-align: middle;\n",
              "    }\n",
              "\n",
              "    .dataframe tbody tr th {\n",
              "        vertical-align: top;\n",
              "    }\n",
              "\n",
              "    .dataframe thead th {\n",
              "        text-align: right;\n",
              "    }\n",
              "</style>\n",
              "<table border=\"1\" class=\"dataframe\">\n",
              "  <thead>\n",
              "    <tr style=\"text-align: right;\">\n",
              "      <th></th>\n",
              "      <th>name</th>\n",
              "      <th>description</th>\n",
              "      <th>maker</th>\n",
              "      <th>trademark</th>\n",
              "      <th>first_words</th>\n",
              "      <th>words</th>\n",
              "      <th>category_id</th>\n",
              "    </tr>\n",
              "  </thead>\n",
              "  <tbody>\n",
              "    <tr>\n",
              "      <th>0</th>\n",
              "      <td>Queso Sancor Gouda 280 Gr</td>\n",
              "      <td>Queso Sancor Gouda 280 Gr</td>\n",
              "      <td>NaN</td>\n",
              "      <td>Sancor</td>\n",
              "      <td>Queso</td>\n",
              "      <td>queso sancor gouda 280 gr</td>\n",
              "      <td>10</td>\n",
              "    </tr>\n",
              "    <tr>\n",
              "      <th>1</th>\n",
              "      <td>Jugo De Limón Delemon 1 L</td>\n",
              "      <td>Jugo De Limón Delemon 1 L</td>\n",
              "      <td>NaN</td>\n",
              "      <td>Delemon</td>\n",
              "      <td>Jugo</td>\n",
              "      <td>jugo de limón delemon 1 l</td>\n",
              "      <td>7</td>\n",
              "    </tr>\n",
              "    <tr>\n",
              "      <th>2</th>\n",
              "      <td>Turrón Georgalos De Yema</td>\n",
              "      <td>Turrón Georgalos De Yema</td>\n",
              "      <td>NaN</td>\n",
              "      <td>Georgalos</td>\n",
              "      <td>Turrón</td>\n",
              "      <td>turrón georgalos de yema</td>\n",
              "      <td>1</td>\n",
              "    </tr>\n",
              "    <tr>\n",
              "      <th>3</th>\n",
              "      <td>Ketchup Danica X220Gr.Dp</td>\n",
              "      <td>Ketchup Danica X220Gr.Dp</td>\n",
              "      <td>NaN</td>\n",
              "      <td>La Gallega</td>\n",
              "      <td>Ketchup</td>\n",
              "      <td>ketchup danica x220grdp</td>\n",
              "      <td>7</td>\n",
              "    </tr>\n",
              "    <tr>\n",
              "      <th>4</th>\n",
              "      <td>Queso Reggianito La Paulina Trozado Paquete 1 Kg</td>\n",
              "      <td>Queso Reggianito La Paulina Trozado Paquete 1 Kg</td>\n",
              "      <td>NaN</td>\n",
              "      <td>La Paulina</td>\n",
              "      <td>Queso</td>\n",
              "      <td>queso reggianito la paulina trozado paquete 1 kg</td>\n",
              "      <td>10</td>\n",
              "    </tr>\n",
              "    <tr>\n",
              "      <th>...</th>\n",
              "      <td>...</td>\n",
              "      <td>...</td>\n",
              "      <td>...</td>\n",
              "      <td>...</td>\n",
              "      <td>...</td>\n",
              "      <td>...</td>\n",
              "      <td>...</td>\n",
              "    </tr>\n",
              "    <tr>\n",
              "      <th>908</th>\n",
              "      <td>Prepizza Con Salvado 1 U</td>\n",
              "      <td>Prepizza Con Salvado 1 U</td>\n",
              "      <td>NaN</td>\n",
              "      <td>La Panaderia</td>\n",
              "      <td>Prepizza</td>\n",
              "      <td>prepizza con salvado 1 u</td>\n",
              "      <td>9</td>\n",
              "    </tr>\n",
              "    <tr>\n",
              "      <th>909</th>\n",
              "      <td>Cerveza Imperial Scout 500 Cc</td>\n",
              "      <td>Cerveza Imperial Scout 500 Cc</td>\n",
              "      <td>Imperial</td>\n",
              "      <td>Imperial</td>\n",
              "      <td>Cerveza</td>\n",
              "      <td>cerveza imperial scout 500 cc</td>\n",
              "      <td>3</td>\n",
              "    </tr>\n",
              "    <tr>\n",
              "      <th>910</th>\n",
              "      <td>Vino Tinto Humberto Canale Estate Pinot Noir 7...</td>\n",
              "      <td>Vino Tinto Humberto Canale Estate Pinot Noir 7...</td>\n",
              "      <td>NaN</td>\n",
              "      <td>Humberto Canale</td>\n",
              "      <td>Vino</td>\n",
              "      <td>vino tinto humberto canale estate pinot noir 7...</td>\n",
              "      <td>12</td>\n",
              "    </tr>\n",
              "    <tr>\n",
              "      <th>911</th>\n",
              "      <td>Leche Entera Vital 3 Nutriplus 200 mL</td>\n",
              "      <td>Leche Entera Vital 3 Nutriplus 200 mL</td>\n",
              "      <td>Danone Argentina</td>\n",
              "      <td>Vital</td>\n",
              "      <td>Leche</td>\n",
              "      <td>leche entera vital 3 nutriplus 200 ml</td>\n",
              "      <td>8</td>\n",
              "    </tr>\n",
              "    <tr>\n",
              "      <th>912</th>\n",
              "      <td>Yogur La Serenisima Original - Natural Endulzd</td>\n",
              "      <td>Yogur La Serenisima Original - Natural Endulzd</td>\n",
              "      <td>NaN</td>\n",
              "      <td>La Serenisima Original</td>\n",
              "      <td>Yogur</td>\n",
              "      <td>yogur la serenisima original natural endulzd</td>\n",
              "      <td>14</td>\n",
              "    </tr>\n",
              "  </tbody>\n",
              "</table>\n",
              "<p>913 rows × 7 columns</p>\n",
              "</div>"
            ],
            "text/plain": [
              "                                                  name  ... category_id\n",
              "0                            Queso Sancor Gouda 280 Gr  ...          10\n",
              "1                            Jugo De Limón Delemon 1 L  ...           7\n",
              "2                             Turrón Georgalos De Yema  ...           1\n",
              "3                             Ketchup Danica X220Gr.Dp  ...           7\n",
              "4     Queso Reggianito La Paulina Trozado Paquete 1 Kg  ...          10\n",
              "..                                                 ...  ...         ...\n",
              "908                           Prepizza Con Salvado 1 U  ...           9\n",
              "909                      Cerveza Imperial Scout 500 Cc  ...           3\n",
              "910  Vino Tinto Humberto Canale Estate Pinot Noir 7...  ...          12\n",
              "911              Leche Entera Vital 3 Nutriplus 200 mL  ...           8\n",
              "912     Yogur La Serenisima Original - Natural Endulzd  ...          14\n",
              "\n",
              "[913 rows x 7 columns]"
            ]
          },
          "metadata": {
            "tags": []
          },
          "execution_count": 46
        }
      ]
    },
    {
      "cell_type": "code",
      "metadata": {
        "id": "_TXbGJXNq5rk"
      },
      "source": [
        "categories_index = pd.DataFrame(y.columns.values.tolist(), [y.columns.get_loc(c) for c in y.columns if c in y], columns = ['category'])"
      ],
      "execution_count": 47,
      "outputs": []
    },
    {
      "cell_type": "code",
      "metadata": {
        "colab": {
          "base_uri": "https://localhost:8080/",
          "height": 469
        },
        "id": "hUwL40dX18NY",
        "outputId": "f5ff6e7b-23fa-47db-c3e6-f49f7e89fa90"
      },
      "source": [
        "testing_df.join(categories_index,how = 'left', on = 'category_id')"
      ],
      "execution_count": 48,
      "outputs": [
        {
          "output_type": "execute_result",
          "data": {
            "text/html": [
              "<div>\n",
              "<style scoped>\n",
              "    .dataframe tbody tr th:only-of-type {\n",
              "        vertical-align: middle;\n",
              "    }\n",
              "\n",
              "    .dataframe tbody tr th {\n",
              "        vertical-align: top;\n",
              "    }\n",
              "\n",
              "    .dataframe thead th {\n",
              "        text-align: right;\n",
              "    }\n",
              "</style>\n",
              "<table border=\"1\" class=\"dataframe\">\n",
              "  <thead>\n",
              "    <tr style=\"text-align: right;\">\n",
              "      <th></th>\n",
              "      <th>name</th>\n",
              "      <th>description</th>\n",
              "      <th>maker</th>\n",
              "      <th>trademark</th>\n",
              "      <th>first_words</th>\n",
              "      <th>words</th>\n",
              "      <th>category_id</th>\n",
              "      <th>category</th>\n",
              "    </tr>\n",
              "  </thead>\n",
              "  <tbody>\n",
              "    <tr>\n",
              "      <th>0</th>\n",
              "      <td>Queso Sancor Gouda 280 Gr</td>\n",
              "      <td>Queso Sancor Gouda 280 Gr</td>\n",
              "      <td>NaN</td>\n",
              "      <td>Sancor</td>\n",
              "      <td>Queso</td>\n",
              "      <td>queso sancor gouda 280 gr</td>\n",
              "      <td>10</td>\n",
              "      <td>Quesos</td>\n",
              "    </tr>\n",
              "    <tr>\n",
              "      <th>1</th>\n",
              "      <td>Jugo De Limón Delemon 1 L</td>\n",
              "      <td>Jugo De Limón Delemon 1 L</td>\n",
              "      <td>NaN</td>\n",
              "      <td>Delemon</td>\n",
              "      <td>Jugo</td>\n",
              "      <td>jugo de limón delemon 1 l</td>\n",
              "      <td>7</td>\n",
              "      <td>Jugos</td>\n",
              "    </tr>\n",
              "    <tr>\n",
              "      <th>2</th>\n",
              "      <td>Turrón Georgalos De Yema</td>\n",
              "      <td>Turrón Georgalos De Yema</td>\n",
              "      <td>NaN</td>\n",
              "      <td>Georgalos</td>\n",
              "      <td>Turrón</td>\n",
              "      <td>turrón georgalos de yema</td>\n",
              "      <td>1</td>\n",
              "      <td>Aderezos</td>\n",
              "    </tr>\n",
              "    <tr>\n",
              "      <th>3</th>\n",
              "      <td>Ketchup Danica X220Gr.Dp</td>\n",
              "      <td>Ketchup Danica X220Gr.Dp</td>\n",
              "      <td>NaN</td>\n",
              "      <td>La Gallega</td>\n",
              "      <td>Ketchup</td>\n",
              "      <td>ketchup danica x220grdp</td>\n",
              "      <td>7</td>\n",
              "      <td>Jugos</td>\n",
              "    </tr>\n",
              "    <tr>\n",
              "      <th>4</th>\n",
              "      <td>Queso Reggianito La Paulina Trozado Paquete 1 Kg</td>\n",
              "      <td>Queso Reggianito La Paulina Trozado Paquete 1 Kg</td>\n",
              "      <td>NaN</td>\n",
              "      <td>La Paulina</td>\n",
              "      <td>Queso</td>\n",
              "      <td>queso reggianito la paulina trozado paquete 1 kg</td>\n",
              "      <td>10</td>\n",
              "      <td>Quesos</td>\n",
              "    </tr>\n",
              "    <tr>\n",
              "      <th>...</th>\n",
              "      <td>...</td>\n",
              "      <td>...</td>\n",
              "      <td>...</td>\n",
              "      <td>...</td>\n",
              "      <td>...</td>\n",
              "      <td>...</td>\n",
              "      <td>...</td>\n",
              "      <td>...</td>\n",
              "    </tr>\n",
              "    <tr>\n",
              "      <th>908</th>\n",
              "      <td>Prepizza Con Salvado 1 U</td>\n",
              "      <td>Prepizza Con Salvado 1 U</td>\n",
              "      <td>NaN</td>\n",
              "      <td>La Panaderia</td>\n",
              "      <td>Prepizza</td>\n",
              "      <td>prepizza con salvado 1 u</td>\n",
              "      <td>9</td>\n",
              "      <td>Panificados</td>\n",
              "    </tr>\n",
              "    <tr>\n",
              "      <th>909</th>\n",
              "      <td>Cerveza Imperial Scout 500 Cc</td>\n",
              "      <td>Cerveza Imperial Scout 500 Cc</td>\n",
              "      <td>Imperial</td>\n",
              "      <td>Imperial</td>\n",
              "      <td>Cerveza</td>\n",
              "      <td>cerveza imperial scout 500 cc</td>\n",
              "      <td>3</td>\n",
              "      <td>Cervezas</td>\n",
              "    </tr>\n",
              "    <tr>\n",
              "      <th>910</th>\n",
              "      <td>Vino Tinto Humberto Canale Estate Pinot Noir 7...</td>\n",
              "      <td>Vino Tinto Humberto Canale Estate Pinot Noir 7...</td>\n",
              "      <td>NaN</td>\n",
              "      <td>Humberto Canale</td>\n",
              "      <td>Vino</td>\n",
              "      <td>vino tinto humberto canale estate pinot noir 7...</td>\n",
              "      <td>12</td>\n",
              "      <td>Vinos</td>\n",
              "    </tr>\n",
              "    <tr>\n",
              "      <th>911</th>\n",
              "      <td>Leche Entera Vital 3 Nutriplus 200 mL</td>\n",
              "      <td>Leche Entera Vital 3 Nutriplus 200 mL</td>\n",
              "      <td>Danone Argentina</td>\n",
              "      <td>Vital</td>\n",
              "      <td>Leche</td>\n",
              "      <td>leche entera vital 3 nutriplus 200 ml</td>\n",
              "      <td>8</td>\n",
              "      <td>Leches</td>\n",
              "    </tr>\n",
              "    <tr>\n",
              "      <th>912</th>\n",
              "      <td>Yogur La Serenisima Original - Natural Endulzd</td>\n",
              "      <td>Yogur La Serenisima Original - Natural Endulzd</td>\n",
              "      <td>NaN</td>\n",
              "      <td>La Serenisima Original</td>\n",
              "      <td>Yogur</td>\n",
              "      <td>yogur la serenisima original natural endulzd</td>\n",
              "      <td>14</td>\n",
              "      <td>Yogures</td>\n",
              "    </tr>\n",
              "  </tbody>\n",
              "</table>\n",
              "<p>913 rows × 8 columns</p>\n",
              "</div>"
            ],
            "text/plain": [
              "                                                  name  ...     category\n",
              "0                            Queso Sancor Gouda 280 Gr  ...       Quesos\n",
              "1                            Jugo De Limón Delemon 1 L  ...        Jugos\n",
              "2                             Turrón Georgalos De Yema  ...     Aderezos\n",
              "3                             Ketchup Danica X220Gr.Dp  ...        Jugos\n",
              "4     Queso Reggianito La Paulina Trozado Paquete 1 Kg  ...       Quesos\n",
              "..                                                 ...  ...          ...\n",
              "908                           Prepizza Con Salvado 1 U  ...  Panificados\n",
              "909                      Cerveza Imperial Scout 500 Cc  ...     Cervezas\n",
              "910  Vino Tinto Humberto Canale Estate Pinot Noir 7...  ...        Vinos\n",
              "911              Leche Entera Vital 3 Nutriplus 200 mL  ...       Leches\n",
              "912     Yogur La Serenisima Original - Natural Endulzd  ...      Yogures\n",
              "\n",
              "[913 rows x 8 columns]"
            ]
          },
          "metadata": {
            "tags": []
          },
          "execution_count": 48
        }
      ]
    },
    {
      "cell_type": "code",
      "metadata": {
        "id": "3kF0gFOmG19Z"
      },
      "source": [
        "testing_predictions = testing_df.drop(['first_words','words','category_id'], axis =1)"
      ],
      "execution_count": 50,
      "outputs": []
    },
    {
      "cell_type": "code",
      "metadata": {
        "id": "uITK5P6sHJPU"
      },
      "source": [
        "testing_predictions.to_csv('predicciones_test_challenge.csv', sep = \";\")"
      ],
      "execution_count": 51,
      "outputs": []
    },
    {
      "cell_type": "markdown",
      "metadata": {
        "id": "tAd9IKK2b0sS"
      },
      "source": [
        "# Resumen de la aproximanción al problema  y conclusiones\n"
      ]
    },
    {
      "cell_type": "markdown",
      "metadata": {
        "id": "1w6mRcp84wVY"
      },
      "source": [
        "Con la finalidad de cumplir con los objetivos del ejercicio, se consideró en primer lugar la estrategia \"Zero Shot Classification\"  a partir de un modelo pre-entrenado disponible en HuggingFace para realizar la clasificación semántica de  los nombres de los artítculos a una de las 15 sub-categorías predeterminadas de los productos.\n",
        "\n",
        "Este modelo se aplicó unicamente a la primera palabra de cada producto por temas de rendimiento. La oportunidad de mejora en la clasificación de las categorías utilizando este modelo está en utilizar el nombre completo o la descripción completa como entrada del modelo. Lo cual podría tomar alrededor de 10 horas.\n",
        "\n",
        "Esta estrategia da un buen resultado y eventualmente podría compararse con otras metodologías como guided-Lda o neural topic model.Para lo cual se requeriría mucho más trabajo en la comprensión de las categorías.\n",
        "\n",
        "En la segunda parte del ejercicio se entrenó un clasificador mediante redes neuronales sencillas tipo perceptron multicapa, que son adecuadas para tareas de clasificación. Cabe mencionar que se realizó un modelo base para establecer si la estrategia tenía buenos resultados en el dataset de entrenamiento, el cual arrojo buenos resultados y  fue util para los valores que se ajustaron en el gridsearch. Luego, se procedió a entonar los hiperparámetros mediante gridsearch  y se logró un aumento consideranble en la precisión. Este aumento aunque notorio, es importante únicamente de acuerdo con el contexto del problema. \n",
        "\n",
        "Y por último es importante mencionar que se alcanzó un accuracy del 95% en el dataset de pruebas. Lo que muestra que la estrategia para la clasificación es efectiva. \n",
        "\n",
        "\n",
        "\n",
        "\n",
        "\n",
        "\n",
        "\n"
      ]
    }
  ]
}